{
 "cells": [
  {
   "cell_type": "markdown",
   "metadata": {},
   "source": [
    "### Binary Search Definition\n",
    "\n",
    "Binary Search is an efficient search algorithm used to find a target element in a sorted array. The key characteristic is that it repeatedly divides the search space in half, making it much faster than linear search, especially for large datasets.\n",
    "\n",
    "### Time Complexity\n",
    "\n",
    "Best Case: O(1) - when the middle element is the target\n",
    "Average Case: O(log n)\n",
    "Worst Case: O(log n)\n",
    "\n",
    "### Space Complexity: O(1) - iterative version\n",
    "\n",
    "### Algorithm Steps\n",
    "\n",
    "<ol>\n",
    "<li> Ensure the array is sorted\n",
    "<li> Set two pointers:\n",
    "<ul>\n",
    "<li>left pointer at the start (index 0)\n",
    "<li>right pointer at the end (length - 1)\n",
    "</ul>\n",
    "\n",
    "<li>While left pointer ≤ right pointer:\n",
    "<ul>\n",
    "<li>Calculate middle index = (left + right) // 2\n",
    "<li>If middle element is target → return its index\n",
    "<li>If target > middle element → search right half (left = mid + 1)\n",
    "<li>If target < middle element → search left half (right = mid - 1)\n",
    "</ul>\n",
    "\n",
    "<li>If element not found, return -1"
   ]
  },
  {
   "cell_type": "code",
   "execution_count": 10,
   "metadata": {},
   "outputs": [],
   "source": [
    "def binary_search(arr, target):\n",
    "    # check if the array is empty\n",
    "    if len(arr) == 0:\n",
    "        return -1\n",
    "    # check if the array is sorted\n",
    "    if arr != sorted(arr):\n",
    "        return -1\n",
    "    \n",
    "    # set the low and high pointers\n",
    "    low = 0\n",
    "    high = len(arr) - 1\n",
    "\n",
    "    # while the low pointer is less than or equal to the high pointer\n",
    "    while low <= high:\n",
    "\n",
    "        # calculate the mid point\n",
    "        mid = (low + high) // 2\n",
    "\n",
    "        # if the mid point is the target, return the index\n",
    "        if arr[mid] == target:\n",
    "            return mid\n",
    "        \n",
    "        # if the mid point is less than the target, move the low pointer to the mid + 1\n",
    "        elif arr[mid] < target:\n",
    "            low = mid + 1\n",
    "        \n",
    "        # if the mid point is greater than the target, move the high pointer to the mid - 1\n",
    "        else:\n",
    "            high = mid - 1\n",
    "    \n",
    "    # if the target is not found, return -1\n",
    "    return -1"
   ]
  },
  {
   "cell_type": "code",
   "execution_count": 11,
   "metadata": {},
   "outputs": [],
   "source": [
    "def test_binary_search():\n",
    "    assert binary_search([1, 2, 3, 4, 5], 3) == 2\n",
    "    assert binary_search([1, 2, 3, 4, 5], 5) == 4\n",
    "    assert binary_search([1, 2, 3, 4, 5], 1) == 0\n",
    "    assert binary_search([1, 2, 3, 4, 5], 6) == -1\n",
    "    assert binary_search([], 3) == -1\n",
    "    assert binary_search([5, 4, 3, 2, 1], 3) == -1\n",
    "    print('All test cases pass')"
   ]
  },
  {
   "cell_type": "code",
   "execution_count": 12,
   "metadata": {},
   "outputs": [],
   "source": [
    "if __name__ == '__main__':\n",
    "    test_binary_search"
   ]
  }
 ],
 "metadata": {
  "kernelspec": {
   "display_name": "DSA",
   "language": "python",
   "name": "python3"
  },
  "language_info": {
   "codemirror_mode": {
    "name": "ipython",
    "version": 3
   },
   "file_extension": ".py",
   "mimetype": "text/x-python",
   "name": "python",
   "nbconvert_exporter": "python",
   "pygments_lexer": "ipython3",
   "version": "3.9.19"
  }
 },
 "nbformat": 4,
 "nbformat_minor": 2
}
