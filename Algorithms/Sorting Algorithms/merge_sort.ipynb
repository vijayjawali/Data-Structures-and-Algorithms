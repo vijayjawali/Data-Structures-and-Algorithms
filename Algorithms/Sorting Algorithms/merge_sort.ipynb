{
 "cells": [
  {
   "cell_type": "markdown",
   "id": "0ef40fcf",
   "metadata": {},
   "source": [
    "## Merge Sort Introduction\n",
    "\n",
    "Merge Sort is an efficient, stable, comparison-based sorting algorithm. It uses the divide and conquer approach to split the list into halves, recursively sort each half, and then merge the sorted halves to produce the sorted list.\n",
    "\n",
    "---\n",
    "\n",
    "### Algorithmic Steps\n",
    "\n",
    "1. Divide the unsorted list into two halves.\n",
    "2. Recursively sort each half.\n",
    "3. Merge the two sorted halves into a single sorted list.\n",
    "\n",
    "---\n",
    "\n",
    "### Example & Diagrammatic Representation\n",
    "\n",
    "Suppose we have the list: **[5, 3, 8, 4, 2]**\n",
    "\n",
    "**Step 1:** Split the list\n",
    "```\n",
    "[5, 3, 8, 4, 2]\n",
    "Split into [5, 3] and [8, 4, 2]\n",
    "```\n",
    "\n",
    "**Step 2:** Recursively split and sort\n",
    "```\n",
    "[5, 3] → split into [5] and [3], merge to [3, 5]\n",
    "[8, 4, 2] → split into [8] and [4, 2]\n",
    "[4, 2] → split into [4] and [2], merge to [2, 4]\n",
    "[8] and [2, 4] → merge to [2, 4, 8]\n",
    "```\n",
    "\n",
    "**Step 3:** Merge sorted halves\n",
    "```\n",
    "[3, 5] and [2, 4, 8] → merge to [2, 3, 4, 5, 8]\n",
    "```\n",
    "\n",
    "Merge Sort is efficient for large datasets. Its time complexity is O(n log n) in all cases."
   ]
  },
  {
   "cell_type": "markdown",
   "id": "11e84ded",
   "metadata": {},
   "source": [
    "### Diagrammatic Explanation of Merge Sort Steps\n",
    "\n",
    "Suppose we want to sort the array: **[5, 3, 8, 4, 2]**\n",
    "\n",
    "**Step 1: Divide**\n",
    "Split the array into halves recursively until each subarray has one element:\n",
    "```\n",
    "[5, 3, 8, 4, 2]\n",
    "→ [5, 3] and [8, 4, 2]\n",
    "→ [5] [3]   [8] [4, 2]\n",
    "→ [4, 2] → [4] [2]\n",
    "```\n",
    "\n",
    "**Step 2: Conquer (Sort)**\n",
    "Sort each subarray (single elements are already sorted):\n",
    "```\n",
    "[5] and [3] → merge to [3, 5]\n",
    "[4] and [2] → merge to [2, 4]\n",
    "[8] and [2, 4] → merge to [2, 4, 8]\n",
    "```\n",
    "\n",
    "**Step 3: Merge**\n",
    "Merge the sorted halves step by step:\n",
    "```\n",
    "[3, 5] and [2, 4, 8]\n",
    "Compare 3 and 2 → 2 is smaller, add to merged list\n",
    "Compare 3 and 4 → 3 is smaller, add to merged list\n",
    "Compare 5 and 4 → 4 is smaller, add to merged list\n",
    "Compare 5 and 8 → 5 is smaller, add to merged list\n",
    "Add remaining 8\n",
    "Result: [2, 3, 4, 5, 8]\n",
    "```\n",
    "\n",
    "At each merge step, the algorithm compares the smallest remaining elements of each half and builds the sorted array."
   ]
  },
  {
   "cell_type": "code",
   "execution_count": 1,
   "id": "672a1074",
   "metadata": {},
   "outputs": [],
   "source": [
    "# Merge Sort implementation\n",
    "def merge_sort(arr):\n",
    "    if len(arr) <= 1:\n",
    "        return arr  # Base case: already sorted\n",
    "    mid = len(arr) // 2\n",
    "    left = merge_sort(arr[:mid])  # Sort left half\n",
    "    right = merge_sort(arr[mid:])  # Sort right half\n",
    "    # Merge two sorted halves\n",
    "    merged = []\n",
    "    i = j = 0\n",
    "    while i < len(left) and j < len(right):\n",
    "        if left[i] < right[j]:\n",
    "            merged.append(left[i])\n",
    "            i += 1\n",
    "        else:\n",
    "            merged.append(right[j])\n",
    "            j += 1\n",
    "    # Append remaining elements\n",
    "    merged.extend(left[i:])\n",
    "    merged.extend(right[j:])\n",
    "    return merged"
   ]
  },
  {
   "cell_type": "code",
   "execution_count": 2,
   "id": "8fbd73d4",
   "metadata": {},
   "outputs": [
    {
     "name": "stdout",
     "output_type": "stream",
     "text": [
      "All test cases pass\n"
     ]
    }
   ],
   "source": [
    "def test_merge_sort():\n",
    "    assert merge_sort([5, 3, 8, 4, 2]) == [2, 3, 4, 5, 8]\n",
    "    assert merge_sort([1, 2, 3, 4, 5]) == [1, 2, 3, 4, 5]\n",
    "    assert merge_sort([5, 4, 3, 2, 1]) == [1, 2, 3, 4, 5]\n",
    "    assert merge_sort([1, 1, 1, 1]) == [1, 1, 1, 1]\n",
    "    assert merge_sort([]) == []\n",
    "    assert merge_sort([2]) == [2]\n",
    "    print(\"All test cases pass\")\n",
    "\n",
    "test_merge_sort()"
   ]
  }
 ],
 "metadata": {
  "kernelspec": {
   "display_name": "DSA",
   "language": "python",
   "name": "python3"
  },
  "language_info": {
   "codemirror_mode": {
    "name": "ipython",
    "version": 3
   },
   "file_extension": ".py",
   "mimetype": "text/x-python",
   "name": "python",
   "nbconvert_exporter": "python",
   "pygments_lexer": "ipython3",
   "version": "3.9.19"
  }
 },
 "nbformat": 4,
 "nbformat_minor": 5
}
