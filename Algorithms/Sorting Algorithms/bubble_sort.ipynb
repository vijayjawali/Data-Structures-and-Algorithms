{
 "cells": [
  {
   "cell_type": "markdown",
   "id": "e12d88a6",
   "metadata": {},
   "source": [
    "## Bubble Sort Introduction\n",
    "\n",
    "Bubble Sort is a simple comparison-based sorting algorithm. It repeatedly steps through the list, compares adjacent elements, and swaps them if they are in the wrong order. This process is repeated until the list is sorted. Bubble Sort gets its name because smaller elements \"bubble\" to the top of the list.\n",
    "\n",
    "---\n",
    "\n",
    "### Algorithmic Steps\n",
    "\n",
    "1. Start at the beginning of the list.\n",
    "2. Compare each pair of adjacent elements.\n",
    "3. If the first element is greater than the second, swap them.\n",
    "4. Continue to the end of the list.\n",
    "5. Repeat steps 1–4 for all elements, reducing the range by one each time (since the last elements are already sorted).\n",
    "6. Stop when no swaps are needed in a pass.\n",
    "\n",
    "---\n",
    "\n",
    "### Diagrammatic Representation\n",
    "\n",
    "Suppose we have the list: **[5, 3, 8, 4, 2]**\n",
    "\n",
    "**Pass 1:**\n",
    "```\n",
    "[5, 3, 8, 4, 2]\n",
    " ^  ^\n",
    "Compare 5 and 3 → Swap\n",
    "[3, 5, 8, 4, 2]\n",
    "    ^  ^\n",
    "Compare 5 and 8 → No Swap\n",
    "[3, 5, 8, 4, 2]\n",
    "       ^  ^\n",
    "Compare 8 and 4 → Swap\n",
    "[3, 5, 4, 8, 2]\n",
    "          ^  ^\n",
    "Compare 8 and 2 → Swap\n",
    "[3, 5, 4, 2, 8]\n",
    "```\n",
    "Largest element (8) is now at the end.\n",
    "\n",
    "**Pass 2:**\n",
    "```\n",
    "[3, 5, 4, 2, 8]\n",
    " ^  ^\n",
    "Compare 3 and 5 → No Swap\n",
    "[3, 5, 4, 2, 8]\n",
    "    ^  ^\n",
    "Compare 5 and 4 → Swap\n",
    "[3, 4, 5, 2, 8]\n",
    "       ^  ^\n",
    "Compare 5 and 2 → Swap\n",
    "[3, 4, 2, 5, 8]\n",
    "```\n",
    "Second largest element (5) is now in place.\n",
    "\n",
    "Continue until the list is sorted.\n",
    "\n",
    "---\n",
    "\n",
    "Bubble Sort is easy to implement but not efficient for large datasets. Its average and worst-case time complexity is O(n²)."
   ]
  },
  {
   "cell_type": "code",
   "execution_count": 2,
   "id": "ef19a523",
   "metadata": {},
   "outputs": [],
   "source": [
    "# Bubble Sort implementation\n",
    "def bubble_sort(arr):\n",
    "    n = len(arr)  # Get the length of the array\n",
    "    for i in range(n):  # Traverse through all elements\n",
    "        swapped = False  # Flag to detect any swap in this pass\n",
    "        for j in range(0, n - i - 1):  # Last i elements are already sorted\n",
    "            # Compare adjacent elements\n",
    "            if arr[j] > arr[j + 1]:\n",
    "                # Swap if elements are in wrong order\n",
    "                arr[j], arr[j + 1] = arr[j + 1], arr[j]\n",
    "                swapped = True  # Set flag since a swap occurred\n",
    "        # If no swaps occurred, the array is sorted\n",
    "        if not swapped:\n",
    "            break\n",
    "    return arr  # Return the sorted array"
   ]
  },
  {
   "cell_type": "code",
   "execution_count": 3,
   "id": "d059ed40",
   "metadata": {},
   "outputs": [
    {
     "name": "stdout",
     "output_type": "stream",
     "text": [
      "All test cases pass\n"
     ]
    }
   ],
   "source": [
    "def test_bubble_sort():\n",
    "    assert bubble_sort([5, 3, 8, 4, 2]) == [2, 3, 4, 5, 8]\n",
    "    assert bubble_sort([1, 2, 3, 4, 5]) == [1, 2, 3, 4, 5]\n",
    "    assert bubble_sort([5, 4, 3, 2, 1]) == [1, 2, 3, 4, 5]\n",
    "    assert bubble_sort([1, 1, 1, 1]) == [1, 1, 1, 1]\n",
    "    assert bubble_sort([]) == []\n",
    "    assert bubble_sort([2]) == [2]\n",
    "    print(\"All test cases pass\")\n",
    "\n",
    "test_bubble_sort()"
   ]
  }
 ],
 "metadata": {
  "kernelspec": {
   "display_name": "DSA",
   "language": "python",
   "name": "python3"
  },
  "language_info": {
   "codemirror_mode": {
    "name": "ipython",
    "version": 3
   },
   "file_extension": ".py",
   "mimetype": "text/x-python",
   "name": "python",
   "nbconvert_exporter": "python",
   "pygments_lexer": "ipython3",
   "version": "3.9.19"
  }
 },
 "nbformat": 4,
 "nbformat_minor": 5
}
