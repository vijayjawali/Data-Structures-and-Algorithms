{
 "cells": [
  {
   "cell_type": "markdown",
   "id": "a3a7a8f6",
   "metadata": {},
   "source": [
    "## Insertion Sort Introduction\n",
    "\n",
    "Insertion Sort is a simple comparison-based sorting algorithm. It builds the final sorted array one item at a time. It is much less efficient on large lists than more advanced algorithms such as quicksort, heapsort, or merge sort.\n",
    "\n",
    "---\n",
    "\n",
    "### Algorithmic Steps\n",
    "\n",
    "1. Start from the second element (index 1).\n",
    "2. Compare the current element with the elements before it.\n",
    "3. Shift all elements greater than the current element to one position ahead.\n",
    "4. Insert the current element into its correct position.\n",
    "5. Repeat until the array is sorted.\n",
    "\n",
    "---\n",
    "\n",
    "### Example & Diagrammatic Representation\n",
    "\n",
    "Suppose we have the list: **[5, 3, 8, 4, 2]**\n",
    "\n",
    "**Pass 1:**\n",
    "```\n",
    "[5, 3, 8, 4, 2]\n",
    "    ^\n",
    "Insert 3 before 5\n",
    "[3, 5, 8, 4, 2]\n",
    "```\n",
    "\n",
    "**Pass 2:**\n",
    "```\n",
    "[3, 5, 8, 4, 2]\n",
    "       ^\n",
    "8 is already in correct position\n",
    "[3, 5, 8, 4, 2]\n",
    "```\n",
    "\n",
    "**Pass 3:**\n",
    "```\n",
    "[3, 5, 8, 4, 2]\n",
    "          ^\n",
    "Insert 4 before 8\n",
    "[3, 5, 4, 8, 2]\n",
    "Insert 4 before 5\n",
    "[3, 4, 5, 8, 2]\n",
    "```\n",
    "\n",
    "**Pass 4:**\n",
    "```\n",
    "[3, 4, 5, 8, 2]\n",
    "             ^\n",
    "Insert 2 before 8\n",
    "[3, 4, 5, 2, 8]\n",
    "Insert 2 before 5\n",
    "[3, 4, 2, 5, 8]\n",
    "Insert 2 before 4\n",
    "[3, 2, 4, 5, 8]\n",
    "Insert 2 before 3\n",
    "[2, 3, 4, 5, 8]\n",
    "```\n",
    "\n",
    "Insertion Sort is easy to implement and efficient for small datasets. Its average and worst-case time complexity is O(n²)."
   ]
  },
  {
   "cell_type": "code",
   "execution_count": 1,
   "id": "fd6b2a13",
   "metadata": {},
   "outputs": [],
   "source": [
    "# Insertion Sort implementation\n",
    "def insertion_sort(arr):\n",
    "    n = len(arr)  # Get the length of the array\n",
    "    for i in range(1, n):  # Traverse from the second element\n",
    "        key = arr[i]  # Current element to be inserted\n",
    "        j = i - 1\n",
    "        # Move elements greater than key one position ahead\n",
    "        while j >= 0 and arr[j] > key:\n",
    "            arr[j + 1] = arr[j]\n",
    "            j -= 1\n",
    "        arr[j + 1] = key  # Insert key at correct position\n",
    "    return arr  # Return the sorted array"
   ]
  },
  {
   "cell_type": "code",
   "execution_count": 2,
   "id": "be720e0c",
   "metadata": {},
   "outputs": [
    {
     "name": "stdout",
     "output_type": "stream",
     "text": [
      "All test cases pass\n"
     ]
    }
   ],
   "source": [
    "def test_insertion_sort():\n",
    "    assert insertion_sort([5, 3, 8, 4, 2]) == [2, 3, 4, 5, 8]\n",
    "    assert insertion_sort([1, 2, 3, 4, 5]) == [1, 2, 3, 4, 5]\n",
    "    assert insertion_sort([5, 4, 3, 2, 1]) == [1, 2, 3, 4, 5]\n",
    "    assert insertion_sort([1, 1, 1, 1]) == [1, 1, 1, 1]\n",
    "    assert insertion_sort([]) == []\n",
    "    assert insertion_sort([2]) == [2]\n",
    "    print(\"All test cases pass\")\n",
    "\n",
    "test_insertion_sort()"
   ]
  }
 ],
 "metadata": {
  "kernelspec": {
   "display_name": "DSA",
   "language": "python",
   "name": "python3"
  },
  "language_info": {
   "codemirror_mode": {
    "name": "ipython",
    "version": 3
   },
   "file_extension": ".py",
   "mimetype": "text/x-python",
   "name": "python",
   "nbconvert_exporter": "python",
   "pygments_lexer": "ipython3",
   "version": "3.9.19"
  }
 },
 "nbformat": 4,
 "nbformat_minor": 5
}
