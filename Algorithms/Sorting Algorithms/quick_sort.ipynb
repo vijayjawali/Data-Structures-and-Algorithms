{
 "cells": [
  {
   "cell_type": "markdown",
   "id": "599ab107",
   "metadata": {},
   "source": [
    "# Quick Sort\n",
    "\n",
    "## Introduction\n",
    "\n",
    "Quick Sort is an efficient, comparison-based, divide and conquer sorting algorithm. It works by selecting a 'pivot' element from the array and partitioning the other elements into two sub-arrays, according to whether they are less than or greater than the pivot. The sub-arrays are then sorted recursively.\n",
    "\n",
    "---\n",
    "\n",
    "### Algorithmic Steps\n",
    "\n",
    "1. Choose a pivot element from the array.\n",
    "2. Partition the array into two sub-arrays: elements less than the pivot and elements greater than the pivot.\n",
    "3. Recursively apply the above steps to the sub-arrays.\n",
    "4. Combine the sorted sub-arrays and the pivot to get the sorted array.\n",
    "\n",
    "---\n",
    "\n",
    "### Example & Diagrammatic Representation\n",
    "\n",
    "Suppose we have the list: **[5, 3, 8, 4, 2]**\n",
    "\n",
    "**Step 1:** Choose pivot (e.g., 2)\n",
    "```\n",
    "[5, 3, 8, 4, 2]\n",
    "Pivot = 2\n",
    "Partition: left = [], right = [5, 3, 8, 4]\n",
    "Result: [2, ...]\n",
    "```\n",
    "\n",
    "**Step 2:** Recursively sort left and right\n",
    "Left is empty, sort right [5, 3, 8, 4], choose pivot (e.g., 4)\n",
    "```\n",
    "[5, 3, 8, 4]\n",
    "Pivot = 4\n",
    "Partition: left = [3], right = [5, 8]\n",
    "Result: [3, 4, 5, 8]\n",
    "```\n",
    "\n",
    "**Step 3:** Combine results\n",
    "```\n",
    "Combine left, pivot, right: [2, 3, 4, 5, 8]\n",
    "```\n",
    "\n",
    "Quick Sort is efficient for large datasets. Its average time complexity is O(n log n), but worst-case is O(n²) if poor pivots are chosen."
   ]
  },
  {
   "cell_type": "code",
   "execution_count": 1,
   "id": "1f4b47fd",
   "metadata": {},
   "outputs": [],
   "source": [
    "# Quick Sort implementation\n",
    "def quick_sort(arr):\n",
    "    if len(arr) <= 1:\n",
    "        return arr  # Base case: already sorted\n",
    "    pivot = arr[-1]  # Choose the last element as pivot\n",
    "    left = [x for x in arr[:-1] if x <= pivot]\n",
    "    right = [x for x in arr[:-1] if x > pivot]\n",
    "    # Recursively sort left and right, then combine\n",
    "    return quick_sort(left) + [pivot] + quick_sort(right)"
   ]
  },
  {
   "cell_type": "code",
   "execution_count": 2,
   "id": "7d035ddc",
   "metadata": {},
   "outputs": [
    {
     "name": "stdout",
     "output_type": "stream",
     "text": [
      "All test cases pass\n"
     ]
    }
   ],
   "source": [
    "def test_quick_sort():\n",
    "    assert quick_sort([5, 3, 8, 4, 2]) == [2, 3, 4, 5, 8]\n",
    "    assert quick_sort([1, 2, 3, 4, 5]) == [1, 2, 3, 4, 5]\n",
    "    assert quick_sort([5, 4, 3, 2, 1]) == [1, 2, 3, 4, 5]\n",
    "    assert quick_sort([1, 1, 1, 1]) == [1, 1, 1, 1]\n",
    "    assert quick_sort([]) == []\n",
    "    assert quick_sort([2]) == [2]\n",
    "    print(\"All test cases pass\")\n",
    "\n",
    "test_quick_sort()"
   ]
  }
 ],
 "metadata": {
  "kernelspec": {
   "display_name": "DSA",
   "language": "python",
   "name": "python3"
  },
  "language_info": {
   "codemirror_mode": {
    "name": "ipython",
    "version": 3
   },
   "file_extension": ".py",
   "mimetype": "text/x-python",
   "name": "python",
   "nbconvert_exporter": "python",
   "pygments_lexer": "ipython3",
   "version": "3.9.19"
  }
 },
 "nbformat": 4,
 "nbformat_minor": 5
}
