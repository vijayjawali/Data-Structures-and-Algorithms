{
 "cells": [
  {
   "cell_type": "markdown",
   "metadata": {},
   "source": [
    "### Array Sorting Checker\n",
    "\n",
    "Implement a method is_sorted that takes an array (or list) as input and returns True if the array is sorted in non-decreasing order, and False otherwise.\n",
    "\n",
    "#### Approach\n",
    "<ol>\n",
    "<li> Check if the array is empty or contains only one element. In both cases, the array is considered sorted by definition, so the method returns True.\n",
    "<li> Iterate over the array from the first element to the second-to-last element.\n",
    "<li> For each pair of adjacent elements, compare the current element with the next element. If the current element is greater than the next element, it means the array is not sorted in non-decreasing order, so the method returns False.\n",
    "<li> If the loop completes without finding any violation of the non-decreasing order, it means the array is sorted, so the method returns True."
   ]
  },
  {
   "cell_type": "code",
   "execution_count": 1,
   "metadata": {},
   "outputs": [],
   "source": [
    "def is_sorted(arr):\n",
    "    if len(arr) <= 1:\n",
    "        return True\n",
    "\n",
    "    for i in range(len(arr) - 1):\n",
    "        if arr[i] > arr[i + 1]:\n",
    "            return False\n",
    "\n",
    "    return True"
   ]
  },
  {
   "cell_type": "code",
   "execution_count": 2,
   "metadata": {},
   "outputs": [],
   "source": [
    "def test_is_sorted():\n",
    "    assert is_sorted([1, 2, 3, 4, 5]) == True\n",
    "    assert is_sorted([1, 2, 3, 5, 4]) == False\n",
    "    assert is_sorted([1, 1, 1, 1, 1]) == True\n",
    "    assert is_sorted([1]) == True\n",
    "    assert is_sorted([]) == True\n",
    "    print(\"PASSED\")"
   ]
  }
 ],
 "metadata": {
  "kernelspec": {
   "display_name": "Python 3",
   "language": "python",
   "name": "python3"
  },
  "language_info": {
   "codemirror_mode": {
    "name": "ipython",
    "version": 3
   },
   "file_extension": ".py",
   "mimetype": "text/x-python",
   "name": "python",
   "nbconvert_exporter": "python",
   "pygments_lexer": "ipython3",
   "version": "3.7.16"
  }
 },
 "nbformat": 4,
 "nbformat_minor": 2
}
