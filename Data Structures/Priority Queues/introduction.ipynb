{
 "cells": [
  {
   "cell_type": "markdown",
   "id": "945b2c19",
   "metadata": {},
   "source": [
    "# Priority Queue Introduction\n",
    "\n",
    "A **priority queue** is an abstract data type similar to a regular queue or stack, but where each element has a priority associated with it. In a priority queue, elements are served based on their priority rather than just their order in the queue. The highest (or lowest) priority element is always removed first."
   ]
  },
  {
   "cell_type": "markdown",
   "id": "7f7e7c19",
   "metadata": {},
   "source": [
    "## Diagrammatic Representation\n",
    "\n",
    "Consider a priority queue implemented as a binary heap:\n",
    "\n",
    "```\n",
    "        2\n",
    "      /   \\\n",
    "     3     5\n",
    "    / \\   / \\\n",
    "   7   6 9   8\n",
    "```\n",
    "\n",
    "Here, each node represents an element with its priority value. The smallest value (highest priority) is at the root (for a min-heap)."
   ]
  },
  {
   "cell_type": "markdown",
   "id": "1d08b415",
   "metadata": {},
   "source": [
    "## Main and Auxiliary Operations\n",
    "\n",
    "**Main Operations:**\n",
    "- `insert(item, priority)`: Add an item with a given priority.\n",
    "- `extract_min()` / `extract_max()`: Remove and return the item with the highest (or lowest) priority.\n",
    "- `peek()`: View the item with the highest (or lowest) priority without removing it.\n",
    "\n",
    "**Auxiliary Operations:**\n",
    "- `increase_priority(item, new_priority)`: Change the priority of an item.\n",
    "- `is_empty()`: Check if the priority queue is empty.\n",
    "- `size()`: Get the number of elements in the queue."
   ]
  },
  {
   "cell_type": "markdown",
   "id": "dad21141",
   "metadata": {},
   "source": [
    "## Applications of Priority Queues\n",
    "\n",
    "- **CPU Scheduling:** Managing processes based on priority.\n",
    "- **Dijkstra's Algorithm:** Finding shortest paths in graphs.\n",
    "- **Huffman Coding:** Building optimal prefix codes for data compression.\n",
    "- **Event-driven Simulation:** Handling events in order of their scheduled time.\n",
    "- **Load Balancing:** Assigning tasks based on priority."
   ]
  },
  {
   "cell_type": "markdown",
   "id": "9181b333",
   "metadata": {},
   "source": [
    "## Implementations of Priority Queue\n",
    "\n",
    "**1. Unordered Array / List:**\n",
    "- Elements are inserted at the end (O(1)).\n",
    "- To remove the highest priority element, scan the entire array/list to find it (O(n)).\n",
    "\n",
    "**2. Ordered Array / List:**\n",
    "- Elements are inserted in sorted order (O(n)).\n",
    "- The highest priority element is always at one end, so removal is O(1).\n",
    "\n",
    "**3. Binary Search Tree (BST):**\n",
    "- Insertions and deletions are O(log n) on average (if balanced).\n",
    "- The highest priority element is found at the minimum/maximum node.\n",
    "\n",
    "**4. Binary Heap:**\n",
    "- A complete binary tree structure (usually implemented as an array).\n",
    "- Both insertion and removal of the highest priority element are O(log n).\n",
    "- Efficient for priority queue operations and widely used in practice.\n",
    "\n",
    "Each implementation has trade-offs in terms of insertion and removal efficiency. Binary heaps are most common due to their balanced performance."
   ]
  },
  {
   "cell_type": "markdown",
   "id": "be644d7e",
   "metadata": {},
   "source": [
    "## Comparison of Priority Queue Implementations (Big-O Notation)\n",
    "\n",
    "| Implementation         | Insert      | Remove Min/Max | Peek Min/Max | Change Priority |\n",
    "|-----------------------|-------------|----------------|--------------|-----------------|\n",
    "| Unordered Array/List  | O(1)        | O(n)           | O(n)         | O(n)            |\n",
    "| Ordered Array/List    | O(n)        | O(1)           | O(1)         | O(n)            |\n",
    "| Binary Search Tree    | O(log n)    | O(log n)       | O(log n)     | O(log n)        |\n",
    "| Binary Heap           | O(log n)    | O(log n)       | O(1)         | O(log n)        |\n"
   ]
  }
 ],
 "metadata": {
  "language_info": {
   "name": "python"
  }
 },
 "nbformat": 4,
 "nbformat_minor": 5
}
