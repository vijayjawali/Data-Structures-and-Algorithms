{
 "cells": [
  {
   "cell_type": "markdown",
   "id": "706f172c",
   "metadata": {},
   "source": [
    "## Generic (n-ary) Trees\n",
    "\n",
    "A generic or n-ary tree is a tree data structure where each node can have zero or more children. Unlike binary trees, which limit a node to two children, generic trees allow an arbitrary number of subtrees from each node.\n",
    "\n",
    "### Key Properties\n",
    "- Each node contains a value (often called data or key).\n",
    "- Each node can point to multiple child nodes.\n",
    "- The root node is the ancestor of all other nodes.\n",
    "- A leaf node has no children.\n",
    "\n",
    "Below is a simple diagram of a generic tree node structure:\n",
    "\n",
    "```\n",
    "         (Parent)\n",
    "        /    |    \\\n",
    "       /     |     \\\n",
    "  (Child1) (Child2) (Child3)\n",
    "```\n",
    "\n",
    "### Python Definition\n",
    "\n",
    "```python\n",
    "class TreeNode:\n",
    "    def __init__(self, value):\n",
    "        self.value = value\n",
    "        self.children = []\n",
    "\n",
    "    def add_child(self, child_node):\n",
    "        self.children.append(child_node)\n",
    "```\n",
    "\n",
    "This class allows creation of a generic tree by adding multiple children to any node."
   ]
  }
 ],
 "metadata": {
  "language_info": {
   "name": "python"
  }
 },
 "nbformat": 4,
 "nbformat_minor": 5
}
