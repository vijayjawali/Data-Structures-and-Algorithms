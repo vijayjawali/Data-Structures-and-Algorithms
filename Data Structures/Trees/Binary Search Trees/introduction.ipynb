{
 "cells": [
  {
   "cell_type": "markdown",
   "id": "7acf5840",
   "metadata": {},
   "source": [
    "# Binary Search Trees (BST)\n",
    "\n",
    "## What is a BST?\n",
    "A Binary Search Tree is a specialized form of a binary tree where:\n",
    "- Each node has up to two children.\n",
    "- The left child’s value is always less than the parent.\n",
    "- The right child’s value is always greater than or equal to the parent.\n",
    "\n",
    "## Difference Between Binary Trees and BST\n",
    "- A binary tree has no ordering constraints; it only limits the number of children (up to two).\n",
    "- A BST enforces an ordering rule: all left descendants must be smaller, and all right descendants must be larger or equal.\n",
    "\n",
    "## Properties of BST\n",
    "1. In-order traversal of a BST yields a sorted sequence.\n",
    "2. Searching is efficient (average O(log n)).\n",
    "3. Insertion and deletion maintain the order constraint.\n",
    "4. No duplicate values on the left subtree (duplicates can be placed on the right)."
   ]
  },
  {
   "cell_type": "markdown",
   "id": "dd65a0cf",
   "metadata": {},
   "source": [
    "## Diagrammatic Representation of a Binary Search Tree\n",
    "\n",
    "```\n",
    "         50\n",
    "        /  \\\n",
    "      30    70\n",
    "     /  \\   / \\\n",
    "    20  40 60  80\n",
    "```\n",
    "\n",
    "In this BST:\n",
    "- Root node has value 50\n",
    "- Left subtree contains values less than 50 (30, 20, 40)\n",
    "- Right subtree contains values greater than 50 (70, 60, 80)\n",
    "- For each node, all values in its left subtree are smaller than it\n",
    "- For each node, all values in its right subtree are greater than it"
   ]
  },
  {
   "cell_type": "code",
   "execution_count": null,
   "id": "4c12a19b",
   "metadata": {
    "vscode": {
     "languageId": "markdown"
    }
   },
   "outputs": [],
   "source": [
    "## Declaring a Binary Search Tree in Python\n",
    "\n",
    "### 1. Define the Node Class\n",
    "First, we define a class for the tree nodes. Each node will store its data, and references to its left and right children.\n"
   ]
  },
  {
   "cell_type": "markdown",
   "id": "8ec0f3d6",
   "metadata": {},
   "source": [
    "## Declaring a Binary Search Tree in Python\n",
    "\n",
    "To declare a Binary Search Tree (BST) in Python, follow these steps:\n",
    "\n",
    "### 1. Define the Node Class\n",
    "\n",
    "Each node in the BST contains:\n",
    "- A value (data)\n",
    "- A reference to the left child\n",
    "- A reference to the right child\n",
    "\n",
    "```python\n",
    "class Node:\n",
    "    def __init__(self, key):\n",
    "        self.key = key\n",
    "        self.left = None\n",
    "        self.right = None\n",
    "    # set data\n",
    "    def setData(self, data):\n",
    "        self.data = data\n",
    "    # get data\n",
    "    def getData(self, data):\n",
    "        return self.data\n",
    "    # get left child of a node\n",
    "    def getLeft(self):\n",
    "        return self.left:\n",
    "    # get right child of a node\n",
    "    def getRight(self):\n",
    "        return self.right\n",
    "```\n",
    "\n",
    "### 2. Define the BST Class\n",
    "\n",
    "The BST class manages the root node and provides methods for insertion, searching, and traversal.\n",
    "\n",
    "```python\n",
    "class BST:\n",
    "    def __init__(self):\n",
    "        self.root = None\n",
    "\n",
    "    def insert(self, key):\n",
    "        # Helper function to insert recursively\n",
    "        def _insert(root, key):\n",
    "            if root is None:\n",
    "                return Node(key)\n",
    "            if key < root.key:\n",
    "                root.left = _insert(root.left, key)\n",
    "            else:\n",
    "                root.right = _insert(root.right, key)\n",
    "            return root\n",
    "        self.root = _insert(self.root, key)\n",
    "```\n",
    "\n",
    "### 3. Example Usage\n",
    "\n",
    "```python\n",
    "bst = BST()\n",
    "bst.insert(50)\n",
    "bst.insert(30)\n",
    "bst.insert(70)\n",
    "```\n",
    "\n",
    "This creates a BST with 50 as the root, 30 as the left child, and 70 as the right child."
   ]
  }
 ],
 "metadata": {
  "language_info": {
   "name": "python"
  }
 },
 "nbformat": 4,
 "nbformat_minor": 5
}
