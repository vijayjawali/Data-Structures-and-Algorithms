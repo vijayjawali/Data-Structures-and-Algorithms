{
 "cells": [
  {
   "cell_type": "markdown",
   "metadata": {},
   "source": [
    "## Stack Class Explanation\n",
    "\n",
    "The `Stack` class is a simple implementation of a stack data structure using an array. Below is an explanation of each function:\n",
    "\n",
    "### `__init__(self, capacity=1)`\n",
    "This is the constructor method that initializes the stack with a fixed capacity.\n",
    "- `self.capacity`: The maximum number of elements the stack can hold.\n",
    "- `self.data`: An array of `None` values with a length equal to `capacity`.\n",
    "- `self.top`: An index to keep track of the top element in the stack, initialized to `-1` indicating the stack is empty.\n",
    "\n",
    "### `push(self, value)`\n",
    "This method adds an element to the top of the stack if there is space.\n",
    "- Checks if the stack is full using `is_full()`.\n",
    "- If the stack is full, it prints \"Stack is full\" and returns.\n",
    "- Otherwise, it increments `self.top` and assigns the `value` to `self.data[self.top]`.\n",
    "\n",
    "### `pop(self)`\n",
    "This method removes and returns the top element of the stack if it is not empty.\n",
    "- Checks if the stack is empty using `is_empty()`.\n",
    "- If the stack is empty, it prints \"Stack is empty\" and returns `None`.\n",
    "- Otherwise, it retrieves the value at `self.top`, sets `self.data[self.top]` to `None`, decrements `self.top`, and returns the value.\n",
    "\n",
    "### `peek(self)`\n",
    "This method returns the top element of the stack without removing it.\n",
    "- Checks if the stack is empty using `is_empty()`.\n",
    "- If the stack is empty, it prints \"Stack is empty\" and returns `None`.\n",
    "- Otherwise, it returns the value at `self.top`.\n",
    "\n",
    "### `is_empty(self)`\n",
    "This method checks if the stack is empty.\n",
    "- Returns `True` if `self.top` is `-1`, indicating the stack is empty.\n",
    "- Returns `False` otherwise.\n",
    "\n",
    "### `is_full(self)`\n",
    "This method checks if the stack is full.\n",
    "- Returns `True` if `self.top` is equal to `self.capacity - 1`, indicating the stack is full.\n",
    "- Returns `False` otherwise.\n",
    "\n",
    "\n"
   ]
  },
  {
   "cell_type": "markdown",
   "metadata": {},
   "source": [
    "A simple array‐based stack has a single top index:\n",
    "```\n",
    " ┌────────┐\n",
    " │  ...   │\n",
    " │  ...   │\n",
    " │ data[2]│ ← top\n",
    " │ data[1]│\n",
    " │ data[0]│\n",
    " └────────┘\n",
    "```\n",
    "**Push Operation**  \n",
    "1. Increment the top pointer (top ← top + 1).  \n",
    "2. Place the new item at data[top].\n",
    "\n",
    "Example (pushing the value 10):\n",
    "```\n",
    " ┌────────────┐\n",
    " │ data[9]    │\n",
    " │ data[8]    │\n",
    " │ ...        │\n",
    " │ data[1]    │\n",
    " │ data[0]    │\n",
    " └────────────┘\n",
    "    ↑\n",
    "    top (before push)\n",
    "\n",
    "After push:\n",
    " ┌────────────┐\n",
    " │ data[9]    │\n",
    " │ data[8]    │\n",
    " │ ...        │\n",
    " │ data[1]    │\n",
    " │ data[0]=10 │ ← new top\n",
    " └────────────┘\n",
    "    ↑\n",
    "    top (after push)\n",
    "```\n",
    "\n",
    "**Pop Operation**  \n",
    "1. Retrieve the item at data[top].  \n",
    "2. Decrement the top pointer (top ← top - 1).\n",
    "\n",
    "Example (popping the top value):\n",
    "```\n",
    " ┌────────────┐\n",
    " │ data[9]    │\n",
    " │ data[8]    │\n",
    " │ ...        │\n",
    " │ data[1]    │\n",
    " │ data[0]=10 │ ← current top\n",
    " └────────────┘\n",
    "    ↑\n",
    "    top (before pop)\n",
    "\n",
    "After pop:\n",
    " ┌────────────┐\n",
    " │ data[9]    │\n",
    " │ data[8]    │\n",
    " │ ...        │\n",
    " │ data[1]    │\n",
    " │ data[0]    │ \n",
    " └────────────┘\n",
    "    ↑\n",
    "    top (after pop)\n",
    "```\n",
    "\n",
    "### Performance\n",
    "\n",
    "Each function operates in constant time (O(1)) because all operations involve a direct index access or a simple comparison:\n",
    "\n",
    "- init: Allocates a fixed-size list, performed once.\n",
    "- push: Inserts at the current top index; checks capacity in O(1).\n",
    "- pop: Removes from the current top index in O(1).\n",
    "- peek: Returns the item at the top index in O(1).\n",
    "- is_empty: Compares top with -1, O(1).\n",
    "- is_full: Compares top with capacity - 1, O(1)."
   ]
  },
  {
   "cell_type": "code",
   "execution_count": 24,
   "metadata": {},
   "outputs": [],
   "source": [
    "class Stack:\n",
    "    def __init__(self, capacity=1):\n",
    "        # Initializes the stack with a fixed capacity\n",
    "        self.capacity = capacity\n",
    "        self.data = [None] * capacity\n",
    "        self.top = -1\n",
    "\n",
    "    def push(self, value):\n",
    "        # Adds an element on top if there's space\n",
    "        if self.is_full():\n",
    "            print(\"Stack is full\")\n",
    "            return\n",
    "        self.top += 1\n",
    "        self.data[self.top] = value\n",
    "\n",
    "    def pop(self):\n",
    "        # Removes and returns the top element if not empty\n",
    "        if self.is_empty():\n",
    "            print(\"Stack is empty\")\n",
    "            return None\n",
    "        value = self.data[self.top]\n",
    "        self.data[self.top] = None\n",
    "        self.top -= 1\n",
    "        return value\n",
    "\n",
    "    def peek(self):\n",
    "        # Returns the top element without removing it\n",
    "        if self.is_empty():\n",
    "            print(\"Stack is empty\")\n",
    "            return None\n",
    "        return self.data[self.top]\n",
    "\n",
    "    def is_empty(self):\n",
    "        # Checks if the stack is empty\n",
    "        return self.top == -1\n",
    "\n",
    "    def is_full(self):\n",
    "        # Checks if the stack is full\n",
    "        return self.top == self.capacity - 1"
   ]
  },
  {
   "cell_type": "code",
   "execution_count": 25,
   "metadata": {},
   "outputs": [
    {
     "name": "stdout",
     "output_type": "stream",
     "text": [
      "[0, 1, 2, 3, 4, 5, 6, 7, 8, 9]\n"
     ]
    }
   ],
   "source": [
    "# create a stack of capacity 10 and add random values\n",
    "stack = Stack(10)\n",
    "for i in range(10):\n",
    "    stack.push(i)\n",
    "print(stack.data)"
   ]
  },
  {
   "cell_type": "code",
   "execution_count": 26,
   "metadata": {},
   "outputs": [
    {
     "name": "stdout",
     "output_type": "stream",
     "text": [
      "Stack is full\n"
     ]
    }
   ],
   "source": [
    "# push one more element to test the full condition\n",
    "stack.push(10)"
   ]
  },
  {
   "cell_type": "code",
   "execution_count": 27,
   "metadata": {},
   "outputs": [
    {
     "name": "stdout",
     "output_type": "stream",
     "text": [
      "[None, None, None, None, None, None, None, None, None, None]\n"
     ]
    }
   ],
   "source": [
    "# pop all elements\n",
    "while not stack.is_empty():\n",
    "    stack.pop()\n",
    "print(stack.data)"
   ]
  },
  {
   "cell_type": "code",
   "execution_count": 28,
   "metadata": {},
   "outputs": [
    {
     "name": "stdout",
     "output_type": "stream",
     "text": [
      "Stack is empty\n"
     ]
    }
   ],
   "source": [
    "# pop one more element to test the empty condition\n",
    "stack.pop()"
   ]
  },
  {
   "cell_type": "code",
   "execution_count": 29,
   "metadata": {},
   "outputs": [
    {
     "name": "stdout",
     "output_type": "stream",
     "text": [
      "10\n"
     ]
    }
   ],
   "source": [
    "# push one element and peek\n",
    "stack.push(10)\n",
    "print(stack.peek())"
   ]
  },
  {
   "cell_type": "code",
   "execution_count": 30,
   "metadata": {},
   "outputs": [
    {
     "name": "stdout",
     "output_type": "stream",
     "text": [
      "10\n",
      "[None, None, None, None, None, None, None, None, None, None]\n"
     ]
    }
   ],
   "source": [
    "# pop the element\n",
    "print(stack.pop())\n",
    "print(stack.data)"
   ]
  },
  {
   "cell_type": "code",
   "execution_count": 31,
   "metadata": {},
   "outputs": [
    {
     "name": "stdout",
     "output_type": "stream",
     "text": [
      "Stack is empty\n",
      "None\n"
     ]
    }
   ],
   "source": [
    "# try to pop again\n",
    "print(stack.pop())"
   ]
  },
  {
   "cell_type": "code",
   "execution_count": 32,
   "metadata": {},
   "outputs": [
    {
     "name": "stdout",
     "output_type": "stream",
     "text": [
      "Stack is empty\n",
      "None\n"
     ]
    }
   ],
   "source": [
    "# try to peek\n",
    "print(stack.peek())"
   ]
  },
  {
   "cell_type": "code",
   "execution_count": 33,
   "metadata": {},
   "outputs": [
    {
     "name": "stdout",
     "output_type": "stream",
     "text": [
      "-1\n"
     ]
    }
   ],
   "source": [
    "# top is -1\n",
    "print(stack.top)"
   ]
  }
 ],
 "metadata": {
  "kernelspec": {
   "display_name": "DSA",
   "language": "python",
   "name": "python3"
  },
  "language_info": {
   "codemirror_mode": {
    "name": "ipython",
    "version": 3
   },
   "file_extension": ".py",
   "mimetype": "text/x-python",
   "name": "python",
   "nbconvert_exporter": "python",
   "pygments_lexer": "ipython3",
   "version": "3.9.19"
  }
 },
 "nbformat": 4,
 "nbformat_minor": 2
}
