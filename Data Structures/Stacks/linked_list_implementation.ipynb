{
 "cells": [
  {
   "cell_type": "markdown",
   "metadata": {},
   "source": [
    "# Linked List Stack Implementation\n",
    "\n",
    "This notebook introduces a stack implemented using a linked list."
   ]
  },
  {
   "cell_type": "markdown",
   "metadata": {},
   "source": [
    "## How It Works\n",
    "\n",
    "A stack uses LIFO (Last In, First Out). Instead of an array, each node points to the next, allowing dynamic growth without fixed capacity. Refer to the array implementation structure for consistency.\n",
    "\n"
   ]
  },
  {
   "cell_type": "markdown",
   "metadata": {},
   "source": [
    "## Stack Implementation Using a Linked List\n",
    "\n",
    "A stack is a data structure that follows the Last-In-First-Out (LIFO) principle. In a linked list implementation of a stack, each element is a node that contains data and a reference to the next node.\n",
    "\n",
    "### Stack Structure\n",
    "\n",
    "An empty stack has a `top` pointer set to `None`:\n",
    "\n",
    "```\n",
    "top = None\n",
    "```\n",
    "\n",
    "### Push Operation\n",
    "\n",
    "When we push an element, we create a new node and make it the new top:\n",
    "\n",
    "1. **Initial state** (empty stack):\n",
    "```\n",
    "top = None\n",
    "```\n",
    "\n",
    "2. **Push(10)**: Create a new node with data=10, point it to the current top (None), then update top\n",
    "```\n",
    "top --> [10|None]\n",
    "```\n",
    "\n",
    "3. **Push(20)**: Create a new node with data=20, point it to the current top, then update top\n",
    "```\n",
    "top --> [20|*] --> [10|None]\n",
    "         ^          ^\n",
    "         |          |\n",
    "      New Node     Old Top\n",
    "```\n",
    "\n",
    "### Pop Operation\n",
    "\n",
    "When we pop, we remove the top element and update the top pointer:\n",
    "\n",
    "1. **Initial state** after pushes:\n",
    "```\n",
    "top --> [20|*] --> [10|None]\n",
    "```\n",
    "\n",
    "2. **Pop()**: Save top's data (20), update top to point to the next node, and return saved data\n",
    "```\n",
    "        [20|*] X         Data returned: 20\n",
    "         |\n",
    "         v\n",
    "top --> [10|None]\n",
    "```\n",
    "\n",
    "3. **Pop()** again: Save top's data (10), update top to None, and return saved data\n",
    "```\n",
    "        [10|None] X      Data returned: 10\n",
    "         |\n",
    "         v\n",
    "top = None                (Empty stack)\n",
    "```\n",
    "\n",
    "4. **Pop()** on empty stack: Returns None as there's nothing to remove\n",
    "\n",
    "### Key Points\n",
    "\n",
    "- Each element in the stack is a node with data and a reference to the node beneath it\n",
    "- The top pointer always points to the most recently added element\n",
    "- Push operation adds at the top, making the new element the first to be removed\n",
    "- Pop operation removes from the top, maintaining the LIFO principle"
   ]
  },
  {
   "cell_type": "markdown",
   "metadata": {},
   "source": [
    "## Implementation Details\n",
    "\n",
    "### Node Class\n",
    "\n",
    "The `Node` class is the building block of our linked list implementation:\n",
    "\n",
    "- **Constructor (`__init__`)**: Initializes a node with optional data and next pointer\n",
    "- **Data Management**:\n",
    "    - `set_data(data)`: Updates the node's value\n",
    "    - `get_data()`: Returns the node's value\n",
    "- **Link Management**:\n",
    "    - `set_next(next)`: Points the node to another node\n",
    "    - `get_next()`: Returns the next node in the chain\n",
    "    - `has_next()`: Checks if this node connects to another node\n",
    "\n",
    "### Stack Class\n",
    "\n",
    "The `Stack` class implements a LIFO (Last In, First Out) structure using linked nodes:\n",
    "\n",
    "- **Constructor (`__init__`)**: Creates an empty stack or initializes with a top node\n",
    "- **Core Operations**:\n",
    "    - `push(data)`: Adds a new element to the top of the stack\n",
    "    - `pop()`: Removes and returns the top element, returns None if empty\n",
    "    - `peek()`: Views the top element without removing it, returns None if empty\n",
    "    - `is_empty()`: Returns True if the stack has no elements\n",
    "\n",
    "The linked list implementation allows the stack to grow dynamically without a predefined capacity limit."
   ]
  },
  {
   "cell_type": "code",
   "execution_count": 2,
   "metadata": {},
   "outputs": [],
   "source": [
    "# Node of a singly linked list\n",
    "class Node:\n",
    "    # constructor\n",
    "    def __init__(self, data=None, next=None):\n",
    "        self.data = data\n",
    "        self.next = next\n",
    "    # method for setting the data field of the node\n",
    "    def set_data(self, data):\n",
    "        self.data = data\n",
    "    # method for getting the data field of the node\n",
    "    def get_data(self):\n",
    "        return self.data\n",
    "    # method for setting the next field of the node\n",
    "    def set_next(self, next):\n",
    "        self.next = next\n",
    "    # method for getting the next field of the node\n",
    "    def get_next(self):\n",
    "        return self.next\n",
    "    # returns true if the node points to another node\n",
    "    def has_next(self):\n",
    "        return self.next != None"
   ]
  },
  {
   "cell_type": "code",
   "execution_count": 3,
   "metadata": {},
   "outputs": [],
   "source": [
    "class Stack:\n",
    "    def __init__(self, top=None):\n",
    "        self.top = top\n",
    "    def push(self, data):\n",
    "        new_node = Node(data)\n",
    "        new_node.set_next(self.top)\n",
    "        self.top = new_node\n",
    "    def pop(self):\n",
    "        if self.top is None:\n",
    "            return None\n",
    "        data = self.top.get_data()\n",
    "        self.top = self.top.get_next()\n",
    "        return data\n",
    "    def peek(self):\n",
    "        if self.top is None:\n",
    "            return None\n",
    "        return self.top.get_data()\n",
    "    def is_empty(self):\n",
    "        return self.top is None"
   ]
  },
  {
   "cell_type": "code",
   "execution_count": 4,
   "metadata": {},
   "outputs": [
    {
     "name": "stdout",
     "output_type": "stream",
     "text": [
      "20\n",
      "20\n",
      "10\n",
      "None\n"
     ]
    }
   ],
   "source": [
    "# Demonstration of linked list stack usage\n",
    "s = Stack()\n",
    "s.push(10)\n",
    "s.push(20)\n",
    "print(s.peek())  # should show 20\n",
    "print(s.pop())   # should remove and show 20\n",
    "print(s.pop())   # should remove and show 10\n",
    "print(s.pop())   # should print 'Stack is empty' and return None"
   ]
  }
 ],
 "metadata": {
  "kernelspec": {
   "display_name": "DSA",
   "language": "python",
   "name": "python3"
  },
  "language_info": {
   "codemirror_mode": {
    "name": "ipython",
    "version": 3
   },
   "file_extension": ".py",
   "mimetype": "text/x-python",
   "name": "python",
   "nbconvert_exporter": "python",
   "pygments_lexer": "ipython3",
   "version": "3.9.19"
  }
 },
 "nbformat": 4,
 "nbformat_minor": 2
}
