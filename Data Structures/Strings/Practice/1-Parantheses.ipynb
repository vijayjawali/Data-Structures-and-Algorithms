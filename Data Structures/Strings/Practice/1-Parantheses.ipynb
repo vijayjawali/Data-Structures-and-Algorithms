{
 "cells": [
  {
   "cell_type": "markdown",
   "id": "31a8a343",
   "metadata": {},
   "source": [
    "# Remove Outermost Parentheses\n",
    "## Easy\n",
    "\n",
    "A valid parentheses string is either empty \"\", \"(\" + A + \")\", or A + B, where A and B are valid parentheses strings, and + represents string concatenation.\n",
    "\n",
    "For example, \"\", \"()\", \"(())()\", and \"(()(()))\" are all valid parentheses strings.\n",
    "A valid parentheses string s is primitive if it is nonempty, and there does not exist a way to split it into s = A + B, with A and B nonempty valid parentheses strings.\n",
    "\n",
    "Given a valid parentheses string s, consider its primitive decomposition: s = P1 + P2 + ... + Pk, where Pi are primitive valid parentheses strings.\n",
    "\n",
    "Return s after removing the outermost parentheses of every primitive string in the primitive decomposition of s.\n",
    "\n",
    " \n",
    "\n",
    "### Example 1:\n",
    "\n",
    "**Input:** s = \"(()())(())\"\n",
    "\n",
    "**Output:** \"()()()\"\n",
    "\n",
    "**Explanation:** \n",
    "The input string is \"(()())(())\", with primitive decomposition \"(()())\" + \"(())\".\n",
    "After removing outer parentheses of each part, this is \"()()\" + \"()\" = \"()()()\".\n",
    "\n",
    "### Example 2:\n",
    "\n",
    "**Input:** s = \"(()())(())(()(()))\" \n",
    "\n",
    "**Output:** \"()()()()(())\"\n",
    "\n",
    "**Explanation:** \n",
    "The input string is \"(()())(())(()(()))\", with primitive decomposition \"(()())\" + \"(())\" + \"(()(()))\".\n",
    "After removing outer parentheses of each part, this is \"()()\" + \"()\" + \"()(())\" = \"()()()()(())\".\n",
    "\n",
    "### Example 3:\n",
    "\n",
    "**Input:** s = \"()()\"\n",
    "\n",
    "**Output:** \"\"\n",
    "\n",
    "**Explanation:** \n",
    "The input string is \"()()\", with primitive decomposition \"()\" + \"()\".\n",
    "After removing outer parentheses of each part, this is \"\" + \"\" = \"\".\n",
    "\n",
    "### Constraints:\n",
    "\n",
    "- 1 <= s.length <= 10^5\n",
    "- s[i] is either '(' or ')'.\n",
    "- s is a valid parentheses string."
   ]
  },
  {
   "cell_type": "code",
   "execution_count": null,
   "id": "74fa1391",
   "metadata": {},
   "outputs": [],
   "source": []
  },
  {
   "cell_type": "code",
   "execution_count": null,
   "id": "5357f8af",
   "metadata": {},
   "outputs": [],
   "source": []
  }
 ],
 "metadata": {
  "kernelspec": {
   "display_name": "DSA",
   "language": "python",
   "name": "python3"
  },
  "language_info": {
   "codemirror_mode": {
    "name": "ipython",
    "version": 3
   },
   "file_extension": ".py",
   "mimetype": "text/x-python",
   "name": "python",
   "nbconvert_exporter": "python",
   "pygments_lexer": "ipython3",
   "version": "3.9.19"
  }
 },
 "nbformat": 4,
 "nbformat_minor": 5
}
