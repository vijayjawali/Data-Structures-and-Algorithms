{
 "cells": [
  {
   "cell_type": "markdown",
   "id": "9ed8316d",
   "metadata": {},
   "source": [
    "# Largest Odd Number in a String\n",
    "\n",
    "## Easy\n",
    "\n",
    "Given a string **s**, representing a large integer, the task is to return the largest-valued **odd** **integer** (as a string) that is a **substring** of the given string s.\n",
    "\n",
    "The number returned should **not** have leading **zero's**. But the given input string may have leading zero. (If no odd number is found, then return empty string.)\n",
    "\n",
    "## Examples\n",
    "\n",
    "### Example 1:\n",
    "**Input:** `s = \"5347\"`  \n",
    "**Output:** `\"5347\"`  \n",
    "**Explanation:** The odd numbers formed by given strings are --> 5, 3, 53, 347, 5347.  \n",
    "So the largest among all the possible odd numbers for given string is 5347.\n",
    "\n",
    "### Example 2:\n",
    "**Input:** `s = \"0214638\"`  \n",
    "**Output:** `\"21463\"`  \n",
    "**Explanation:** The different odd numbers that can be formed by the given string are --> 1, 3, 21, 63, 463, 1463, 21463.  \n",
    "We cannot include 021463 as the number contains leading zero.  \n",
    "So largest odd number in given string is 21463."
   ]
  },
  {
   "cell_type": "markdown",
   "id": "6f45efc1",
   "metadata": {},
   "source": [
    "### Algorithmic Steps:\n",
    "\n",
    "1. **Find the rightmost odd digit:**\n",
    "   - Iterate from right to left through the string\n",
    "   - Look for digits 1, 3, 5, 7, 9\n",
    "   - If no odd digit found, return empty string\n",
    "\n",
    "2. **Extend backwards to avoid leading zeros:**\n",
    "   - From the rightmost odd digit position, look backwards\n",
    "   - Find the first non-zero digit (or start from beginning if all leading digits are zeros)\n",
    "   - This ensures no leading zeros in the result\n",
    "\n",
    "3. **Extract the substring:**\n",
    "   - Take substring from the first non-zero position to the rightmost odd digit (inclusive)\n",
    "\n",
    "4. **Handle edge cases:**\n",
    "   - String with no odd digits → return \"\"\n",
    "   - String with all zeros → return \"\"\n",
    "   - String starting with zeros → skip leading zeros\n",
    "\n",
    "### Time Complexity: O(n) - Single pass through the string\n",
    "### Space Complexity: O(1) - Only storing indices\n",
    "\n"
   ]
  },
  {
   "cell_type": "markdown",
   "id": "74406d6c",
   "metadata": {},
   "source": [
    "### Example Trace for `\"0214638\"`:\n",
    "\n",
    "1. **Scan from right**: 8(even), 3(odd!) → rightmost_odd_idx = 5\n",
    "2. **Skip leading zeros**: Start from index 0, skip '0' → start_idx = 1  \n",
    "3. **Extract substring**: `s[1:6]` = `\"21463\"`\n",
    "\n",
    "### Example Trace for `\"5347\"`:\n",
    "\n",
    "1. **Scan from right**: 7(odd!) → rightmost_odd_idx = 3\n",
    "2. **No leading zeros**: start_idx = 0\n",
    "3. **Extract substring**: `s[0:4]` = `\"5347\"`"
   ]
  },
  {
   "cell_type": "code",
   "execution_count": 10,
   "id": "e13db691",
   "metadata": {},
   "outputs": [],
   "source": [
    "def largestOddNumber(s):\n",
    "    \"\"\"\n",
    "    Find the largest odd number substring without leading zeros.\n",
    "    \n",
    "    Args:\n",
    "        s (str): String representing a large integer\n",
    "        \n",
    "    Returns:\n",
    "        str: Largest odd number substring, or empty string if none found\n",
    "        \n",
    "    Time Complexity: O(n) where n is the length of string\n",
    "    Space Complexity: O(1) for storing indices\n",
    "    \"\"\"\n",
    "    # Handle edge case\n",
    "    if not s:\n",
    "        return \"\"\n",
    "    \n",
    "    # Find the rightmost odd digit\n",
    "    rightmost_odd_idx = -1\n",
    "    for i in range(len(s) - 1, -1, -1):\n",
    "        if s[i] in '13579':  # Check if digit is odd\n",
    "            rightmost_odd_idx = i\n",
    "            break\n",
    "    \n",
    "    # If no odd digit found, return empty string\n",
    "    if rightmost_odd_idx == -1:\n",
    "        return \"\"\n",
    "    \n",
    "    # Find the first non-zero digit from the beginning\n",
    "    # This ensures no leading zeros in the result\n",
    "    start_idx = 0\n",
    "    while start_idx < rightmost_odd_idx and s[start_idx] == '0':\n",
    "        start_idx += 1\n",
    "    \n",
    "    # Extract the substring from start_idx to rightmost_odd_idx (inclusive)\n",
    "    return s[start_idx:rightmost_odd_idx + 1]"
   ]
  },
  {
   "cell_type": "code",
   "execution_count": 11,
   "id": "3bb3a770",
   "metadata": {},
   "outputs": [],
   "source": [
    "def test_largestOddNumber():\n",
    "    assert largestOddNumber(\"5347\") == \"5347\"\n",
    "    assert largestOddNumber(\"0214638\") == \"21463\"\n",
    "    assert largestOddNumber(\"\") == \"\"\n",
    "    assert largestOddNumber(\"2468\") == \"\"  # No odd digits\n",
    "    assert largestOddNumber(\"0000\") == \"\"  # All zeros\n",
    "    assert largestOddNumber(\"13579\") == \"13579\"  # All odd digits\n",
    "    assert largestOddNumber(\"5\") == \"5\"\n",
    "    assert largestOddNumber(\"4\") == \"\"\n",
    "    assert largestOddNumber(\"0\") == \"\"\n",
    "    assert largestOddNumber(\"00123\") == \"123\"\n",
    "    assert largestOddNumber(\"00005\") == \"5\"\n",
    "    assert largestOddNumber(\"10203\") == \"10203\"\n",
    "    assert largestOddNumber(\"97531\") == \"97531\"\n",
    "    assert largestOddNumber(\"24681357\") == \"24681357\"\n",
    "    assert largestOddNumber(\"13579246\") == \"13579\"\n",
    "    assert largestOddNumber(\"000213579000\") == \"213579\"\n",
    "    assert largestOddNumber(\"987654321\") == \"987654321\"\n",
    "    assert largestOddNumber(\"102030405\") == \"102030405\"\n",
    "    assert largestOddNumber(\"1000000\") == \"1\"\n",
    "    assert largestOddNumber(\"300000\") == \"3\"\n",
    "    print(\"All test cases pass\")"
   ]
  },
  {
   "cell_type": "code",
   "execution_count": 12,
   "id": "467be51a",
   "metadata": {},
   "outputs": [
    {
     "name": "stdout",
     "output_type": "stream",
     "text": [
      "All test cases pass\n"
     ]
    }
   ],
   "source": [
    "test_largestOddNumber()"
   ]
  }
 ],
 "metadata": {
  "kernelspec": {
   "display_name": "DSA",
   "language": "python",
   "name": "python3"
  },
  "language_info": {
   "codemirror_mode": {
    "name": "ipython",
    "version": 3
   },
   "file_extension": ".py",
   "mimetype": "text/x-python",
   "name": "python",
   "nbconvert_exporter": "python",
   "pygments_lexer": "ipython3",
   "version": "3.9.19"
  }
 },
 "nbformat": 4,
 "nbformat_minor": 5
}
