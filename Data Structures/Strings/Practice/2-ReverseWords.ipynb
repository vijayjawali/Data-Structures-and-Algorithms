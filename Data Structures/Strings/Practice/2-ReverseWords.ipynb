{
 "cells": [
  {
   "cell_type": "markdown",
   "id": "7b1ccb6e",
   "metadata": {},
   "source": [
    "# Reverse Words in a String\n",
    "## Easy\n",
    "\n",
    "## Problem Statement\n",
    "Given a string s, reverse the words of the string.\n",
    "\n",
    "## Examples\n",
    "\n",
    "### Example 1:\n",
    "**Input:** `s=\"this is an amazing program\"`  \n",
    "**Output:** `\"program amazing an is this\"`\n",
    "\n",
    "### Example 2:\n",
    "**Input:** `s=\"This is decent\"`  \n",
    "**Output:** `\"decent is This\"`"
   ]
  },
  {
   "cell_type": "markdown",
   "id": "d38ff206",
   "metadata": {},
   "source": [
    "## Algorithm Explanation\n",
    "\n",
    "### Approach: Split, Reverse, and Join\n",
    "\n",
    "The most straightforward approach is to use Python's built-in string methods to split the string into words, reverse the order, and join them back.\n",
    "\n",
    "### Algorithmic Steps:\n",
    "\n",
    "1. **Handle edge cases:**\n",
    "   - Empty string or None input\n",
    "   - String with only whitespace\n",
    "\n",
    "2. **Split the string into words:**\n",
    "   - Use `split()` method which automatically handles multiple spaces and strips leading/trailing whitespace\n",
    "   - This creates a list of individual words\n",
    "\n",
    "3. **Reverse the order of words:**\n",
    "   - Use slicing `[::-1]` or `reversed()` function to reverse the list of words\n",
    "\n",
    "4. **Join the words back:**\n",
    "   - Use `join()` method with a single space as separator to combine words into final string\n",
    "5. **Return the result**\n",
    "\n",
    "### Alternative Approaches:\n",
    "- **Two-pointer approach**: Reverse the entire string, then reverse each word individually\n",
    "- **Stack-based approach**: Push words onto a stack, then pop them to get reverse order\n",
    "- **Manual parsing**: Iterate through string character by character\n",
    "\n",
    "### Time Complexity: O(n) - where n is length of string\n",
    "### Space Complexity: O(n) - for storing the split words and result\n"
   ]
  },
  {
   "cell_type": "markdown",
   "id": "b61d487f",
   "metadata": {},
   "source": [
    "### Key Insights:\n",
    "\n",
    "- **`split()` without arguments** is powerful - it automatically:\n",
    "  - Splits on any whitespace (spaces, tabs, newlines)\n",
    "  - Removes empty strings from result\n",
    "  - Strips leading/trailing whitespace\n",
    "\n",
    "- **Slicing with `[::-1]`** is the most Pythonic way to reverse a list\n",
    "\n",
    "- **Edge cases matter**: Empty strings, multiple spaces, single words all need proper handling\n",
    "\n",
    "### Example Trace for `\"this is an amazing program\"`:\n",
    "\n",
    "1. **Split**: `[\"this\", \"is\", \"an\", \"amazing\", \"program\"]`\n",
    "2. **Reverse**: `[\"program\", \"amazing\", \"an\", \"is\", \"this\"]`  \n",
    "3. **Join**: `\"program amazing an is this\"`"
   ]
  },
  {
   "cell_type": "code",
   "execution_count": 7,
   "id": "597e77c5",
   "metadata": {},
   "outputs": [],
   "source": [
    "def reverseWords(s):\n",
    "    \"\"\"\n",
    "    Reverse the words in a string.\n",
    "    \n",
    "    Args:\n",
    "        s (str): Input string containing words separated by spaces\n",
    "        \n",
    "    Returns:\n",
    "        str: String with words in reversed order\n",
    "        \n",
    "    Time Complexity: O(n) where n is the length of string\n",
    "    Space Complexity: O(n) for storing the split words and result\n",
    "    \"\"\"\n",
    "    # Handle edge cases\n",
    "    if not s or not s.strip():\n",
    "        return \"\"\n",
    "    \n",
    "    # Split string into words (automatically handles multiple spaces)\n",
    "    words = s.split()\n",
    "    \n",
    "    # Reverse the order of words\n",
    "    reversed_words = words[::-1]\n",
    "    \n",
    "    # Join words back with single space\n",
    "    return ' '.join(reversed_words)"
   ]
  },
  {
   "cell_type": "code",
   "execution_count": 8,
   "id": "1009b4b7",
   "metadata": {},
   "outputs": [],
   "source": [
    "def test_reverseWords():\n",
    "    assert reverseWords(\"this is an amazing program\") == \"program amazing an is this\"\n",
    "    assert reverseWords(\"This is decent\") == \"decent is This\"\n",
    "    assert reverseWords(\"\") == \"\"\n",
    "    assert reverseWords(\" \") == \"\"\n",
    "    assert reverseWords(\"   \") == \"\"\n",
    "    assert reverseWords(\"hello\") == \"hello\"\n",
    "    assert reverseWords(\"  hello    world  \") == \"world hello\"\n",
    "    assert reverseWords(\"a   b   c\") == \"c b a\"\n",
    "    assert reverseWords(\"a b c d e\") == \"e d c b a\"\n",
    "    assert reverseWords(\"Hello World!\") == \"World! Hello\"\n",
    "    assert reverseWords(\"The quick brown fox\") == \"fox brown quick The\"\n",
    "    assert reverseWords(\"123 456 789\") == \"789 456 123\"\n",
    "    assert reverseWords(\"a-b c.d e@f\") == \"e@f c.d a-b\"\n",
    "    \n",
    "    print(\"All test cases pass\")"
   ]
  },
  {
   "cell_type": "code",
   "execution_count": 9,
   "id": "b161d5e4",
   "metadata": {},
   "outputs": [
    {
     "name": "stdout",
     "output_type": "stream",
     "text": [
      "All test cases pass\n"
     ]
    }
   ],
   "source": [
    "test_reverseWords()"
   ]
  }
 ],
 "metadata": {
  "kernelspec": {
   "display_name": "DSA",
   "language": "python",
   "name": "python3"
  },
  "language_info": {
   "codemirror_mode": {
    "name": "ipython",
    "version": 3
   },
   "file_extension": ".py",
   "mimetype": "text/x-python",
   "name": "python",
   "nbconvert_exporter": "python",
   "pygments_lexer": "ipython3",
   "version": "3.9.19"
  }
 },
 "nbformat": 4,
 "nbformat_minor": 5
}
