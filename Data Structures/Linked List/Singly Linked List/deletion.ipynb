{
 "cells": [
  {
   "cell_type": "markdown",
   "metadata": {},
   "source": [
    "# Data Deletion in a Singly Linked List\n",
    "\n",
    "A singly linked list is a data structure consisting of nodes where each node contains data and a pointer to the next node. There are three primary ways to delete a node from a singly linked list:\n",
    "\n",
    "## 1. Deletion at the Beginning (Head)\n",
    "\n",
    "This is the simplest form of deletion where the head node is removed.\n",
    "\n",
    "### Algorithm Steps:\n",
    "1. Store a reference to the current head node\n",
    "2. Update the head to point to the next node\n",
    "3. Decrement the length of the list\n",
    "4. Free the memory of the deleted node\n",
    "\n",
    "### Diagram:\n",
    "```\n",
    "Before Deletion:\n",
    "HEAD → [A] → [B] → [C] → NULL\n",
    "\n",
    "After Deletion:\n",
    "HEAD → [B] → [C] → NULL\n",
    "```\n",
    "\n",
    "## 2. Deletion at a Random Position\n",
    "\n",
    "In this case, we delete a node at a specific position in the list.\n",
    "\n",
    "### Algorithm Steps:\n",
    "1. If the position is 0, perform deletion at the beginning\n",
    "2. If the position is greater than or equal to the length, return (no deletion)\n",
    "3. Otherwise:\n",
    "    - Traverse the list to find the node at position-1\n",
    "    - Store a reference to the node to be deleted\n",
    "    - Update the next pointer of the previous node to skip the node to be deleted\n",
    "4. Decrement the length of the list\n",
    "5. Free the memory of the deleted node\n",
    "\n",
    "### Diagram:\n",
    "```\n",
    "Before Deletion (deleting node at position 2):\n",
    "HEAD → [A] → [B] → [C] → [D] → NULL\n",
    "                    ↑\n",
    "            Node to Delete\n",
    "\n",
    "After Deletion:\n",
    "HEAD → [A] → [B] → [D] → NULL\n",
    "```\n",
    "\n",
    "## 3. Deletion at the End\n",
    "\n",
    "Here we remove the last node of the list.\n",
    "\n",
    "### Algorithm Steps:\n",
    "1. If the list is empty, return (no deletion)\n",
    "2. If there's only one node, set head to NULL\n",
    "3. Otherwise:\n",
    "    - Traverse to the second-to-last node\n",
    "    - Set the next pointer of the second-to-last node to NULL\n",
    "4. Decrement the length of the list\n",
    "5. Free the memory of the deleted node\n",
    "\n",
    "### Diagram:\n",
    "```\n",
    "Before Deletion:\n",
    "HEAD → [A] → [B] → [C] → NULL\n",
    "                    ↑\n",
    "            Node to Delete\n",
    "\n",
    "After Deletion:\n",
    "HEAD → [A] → [B] → NULL\n",
    "```\n",
    "\n",
    "Each deletion method has its own time complexity:\n",
    "- Deletion at beginning: O(1) - constant time\n",
    "- Deletion at a random position: O(n) in worst case - linear time\n",
    "- Deletion at the end: O(n) - linear time (unless we maintain a tail pointer)"
   ]
  },
  {
   "cell_type": "markdown",
   "metadata": {},
   "source": [
    "## Creating a Singly Linked List"
   ]
  },
  {
   "cell_type": "code",
   "execution_count": 6,
   "metadata": {},
   "outputs": [],
   "source": [
    "# Node of a singly linked list\n",
    "class Node:\n",
    "    # constructor\n",
    "    def __init__(self, data=None, next=None):\n",
    "        self.data = data\n",
    "        self.next = next\n",
    "    # method for setting the data field of the node\n",
    "    def set_data(self, data):\n",
    "        self.data = data\n",
    "    # method for getting the data field of the node\n",
    "    def get_data(self):\n",
    "        return self.data\n",
    "    # method for setting the next field of the node\n",
    "    def set_next(self, next):\n",
    "        self.next = next\n",
    "    # method for getting the next field of the node\n",
    "    def get_next(self):\n",
    "        return self.next\n",
    "    # returns true if the node points to another node\n",
    "    def has_next(self):\n",
    "        return self.next != None\n",
    "\n",
    "# class for defining a linked list  \n",
    "class LinkedList:\n",
    "    # initializing the list\n",
    "    def __init__(self, node=None):\n",
    "        self.length = 0\n",
    "        self.head = node\n",
    "\n",
    "    def print_list(self):\n",
    "        current = self.head\n",
    "        while current:\n",
    "            print(current.get_data())\n",
    "            current = current.get_next()\n",
    "\n",
    "    def insert_at_beginning(self, data):\n",
    "        new_node = Node(data)\n",
    "        new_node.set_next(self.head)\n",
    "        self.head = new_node\n",
    "        self.length += 1"
   ]
  },
  {
   "cell_type": "markdown",
   "metadata": {},
   "source": [
    "## deletion at the beginning"
   ]
  },
  {
   "cell_type": "code",
   "execution_count": null,
   "metadata": {},
   "outputs": [],
   "source": [
    "# write a function to delete a node in the beginning of the list\n",
    "def delete_node_at_beginning(self):\n",
    "    if self.head is None:\n",
    "        return None\n",
    "    self.head = self.head.get_next()\n",
    "    self.length -= 1\n",
    "LinkedList.delete_node_at_beginning = delete_node_at_beginning"
   ]
  },
  {
   "cell_type": "code",
   "execution_count": 8,
   "metadata": {},
   "outputs": [
    {
     "name": "stdout",
     "output_type": "stream",
     "text": [
      "1\n",
      "2\n",
      "3\n",
      "4\n",
      "5\n",
      "6\n",
      "7\n",
      "8\n",
      "9\n",
      "10\n"
     ]
    }
   ],
   "source": [
    "# create a linked list with length 10 having data from 10 to 1\n",
    "linked_list = LinkedList()\n",
    "for i in range(10, 0, -1):\n",
    "    linked_list.insert_at_beginning(i)\n",
    "linked_list.print_list()"
   ]
  },
  {
   "cell_type": "code",
   "execution_count": 9,
   "metadata": {},
   "outputs": [
    {
     "name": "stdout",
     "output_type": "stream",
     "text": [
      "After deleting the first node:\n",
      "2\n",
      "3\n",
      "4\n",
      "5\n",
      "6\n",
      "7\n",
      "8\n",
      "9\n",
      "10\n"
     ]
    }
   ],
   "source": [
    "delete_node_at_beginning(linked_list)\n",
    "print(\"After deleting the first node:\")\n",
    "linked_list.print_list()"
   ]
  },
  {
   "cell_type": "markdown",
   "metadata": {},
   "source": [
    "## deletion at the end"
   ]
  },
  {
   "cell_type": "code",
   "execution_count": null,
   "metadata": {},
   "outputs": [],
   "source": [
    "# write a function to delete a node at the end of the list\n",
    "def delete_node_at_end(self):\n",
    "    if self.head is None:\n",
    "        return None\n",
    "    current = self.head\n",
    "    previous = None\n",
    "    while current.get_next() is not None:\n",
    "        previous = current\n",
    "        current = current.get_next()\n",
    "    previous.set_next(None)\n",
    "    self.length -= 1\n",
    "LinkedList.delete_node_at_end = delete_node_at_end"
   ]
  },
  {
   "cell_type": "code",
   "execution_count": 11,
   "metadata": {},
   "outputs": [
    {
     "name": "stdout",
     "output_type": "stream",
     "text": [
      "After deleting the last node:\n",
      "2\n",
      "3\n",
      "4\n",
      "5\n",
      "6\n",
      "7\n",
      "8\n",
      "9\n"
     ]
    }
   ],
   "source": [
    "delete_node_at_end(linked_list)\n",
    "print(\"After deleting the last node:\")\n",
    "linked_list.print_list()"
   ]
  },
  {
   "cell_type": "markdown",
   "metadata": {},
   "source": [
    "## delete a node at a random position"
   ]
  },
  {
   "cell_type": "code",
   "execution_count": 12,
   "metadata": {},
   "outputs": [],
   "source": [
    "def delete_node_at_position(self, position):\n",
    "    if position < 0 or position >= self.length:\n",
    "        return None\n",
    "    if position == 0:\n",
    "        self.head = self.head.get_next()\n",
    "    else:\n",
    "        current = self.head\n",
    "        previous = None\n",
    "        for i in range(position):\n",
    "            previous = current\n",
    "            current = current.get_next()\n",
    "        previous.set_next(current.get_next())\n",
    "    self.length -= 1\n",
    "LinkedList.delete_node_at_position = delete_node_at_position\n",
    "        "
   ]
  },
  {
   "cell_type": "code",
   "execution_count": 13,
   "metadata": {},
   "outputs": [
    {
     "name": "stdout",
     "output_type": "stream",
     "text": [
      "After deleting the node at position 3:\n",
      "2\n",
      "3\n",
      "4\n",
      "6\n",
      "7\n",
      "8\n",
      "9\n"
     ]
    }
   ],
   "source": [
    "delete_node_at_position(linked_list, 3)\n",
    "print(\"After deleting the node at position 3:\")\n",
    "linked_list.print_list()"
   ]
  }
 ],
 "metadata": {
  "kernelspec": {
   "display_name": "DSA",
   "language": "python",
   "name": "python3"
  },
  "language_info": {
   "codemirror_mode": {
    "name": "ipython",
    "version": 3
   },
   "file_extension": ".py",
   "mimetype": "text/x-python",
   "name": "python",
   "nbconvert_exporter": "python",
   "pygments_lexer": "ipython3",
   "version": "3.9.19"
  }
 },
 "nbformat": 4,
 "nbformat_minor": 2
}
