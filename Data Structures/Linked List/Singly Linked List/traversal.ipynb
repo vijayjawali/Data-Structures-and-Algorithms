{
 "cells": [
  {
   "cell_type": "markdown",
   "metadata": {},
   "source": [
    "# Traversing a Linked List: Step-by-Step Guide\n",
    "\n",
    "## What is Traversal?\n",
    "Traversal means visiting each node of the linked list exactly once to perform some operation on it (like printing its value).\n",
    "\n",
    "## Steps to Traverse a Singly Linked List\n",
    "\n",
    "1. Start with the head node of the linked list\n",
    "2. Process the current node (e.g., print its data)\n",
    "3. Move to the next node using the `next` pointer\n",
    "4. Repeat steps 2-3 until you reach the end of the list (when `next` is `None`)\n",
    "\n",
    "## Diagrammatic Representation of Traversal\n",
    "\n",
    "```\n",
    "Initial State:\n",
    "┌──────┐     ┌──────┐     ┌──────┐     ┌──────┐\n",
    "│ Head │ ──► │Node 1│ ──► │Node 2│ ──► │Node 3│ ──► None\n",
    "└──────┘     └──────┘     └──────┘     └──────┘\n",
    "    ▲\n",
    "    │\n",
    "current\n",
    "```\n",
    "\n",
    "### Step 1: Process the head node\n",
    "```\n",
    "┌──────┐     ┌──────┐     ┌──────┐     ┌──────┐\n",
    "│ Head │ ──► │Node 1│ ──► │Node 2│ ──► │Node 3│ ──► None\n",
    "└──────┘     └──────┘     └──────┘     └──────┘\n",
    "    ▲\n",
    "    │\n",
    "current\n",
    "(Process: print Head.data)\n",
    "```\n",
    "\n",
    "### Step 2: Move to next node\n",
    "```\n",
    "┌──────┐     ┌──────┐     ┌──────┐     ┌──────┐\n",
    "│ Head │ ──► │Node 1│ ──► │Node 2│ ──► │Node 3│ ──► None\n",
    "└──────┘     └──────┘     └──────┘     └──────┘\n",
    "                ▲\n",
    "                │\n",
    "            current\n",
    "(Process: print Node 1.data)\n",
    "```\n",
    "\n",
    "### Step 3: Move to next node\n",
    "```\n",
    "┌──────┐     ┌──────┐     ┌──────┐     ┌──────┐\n",
    "│ Head │ ──► │Node 1│ ──► │Node 2│ ──► │Node 3│ ──► None\n",
    "└──────┘     └──────┘     └──────┘     └──────┘\n",
    "                            ▲\n",
    "                            │\n",
    "                        current\n",
    "(Process: print Node 2.data)\n",
    "```\n",
    "\n",
    "### Step 4: Move to next node\n",
    "```\n",
    "┌──────┐     ┌──────┐     ┌──────┐     ┌──────┐\n",
    "│ Head │ ──► │Node 1│ ──► │Node 2│ ──► │Node 3│ ──► None\n",
    "└──────┘     └──────┘     └──────┘     └──────┘\n",
    "                                            ▲\n",
    "                                            │\n",
    "                                        current\n",
    "(Process: print Node 3.data)\n",
    "```\n",
    "\n",
    "### Step 5: Move to next node (which is None, so we stop)\n",
    "```\n",
    "┌──────┐     ┌──────┐     ┌──────┐     ┌──────┐\n",
    "│ Head │ ──► │Node 1│ ──► │Node 2│ ──► │Node 3│ ──► None\n",
    "└──────┘     └──────┘     └──────┘     └──────┘\n",
    "                                                    ▲\n",
    "                                                    │\n",
    "                                                current\n",
    "(current is None, so traversal is complete)\n",
    "```\n",
    "\n",
    "## Example Code to Traverse a Linked List\n",
    "\n",
    "```python\n",
    "def traverse(linked_list):\n",
    "        current = linked_list.head  # Start at the head\n",
    "        while current:              # Continue until current becomes None\n",
    "                print(current.get_data())  # Process current node\n",
    "                current = current.get_next()  # Move to next node\n",
    "```"
   ]
  },
  {
   "cell_type": "code",
   "execution_count": 19,
   "metadata": {},
   "outputs": [],
   "source": [
    "# Node of a singly linked list\n",
    "class Node:\n",
    "    # constructor\n",
    "    def __init__(self, data=None, next=None):\n",
    "        self.data = data\n",
    "        self.next = next\n",
    "    # method for setting the data field of the node\n",
    "    def set_data(self, data):\n",
    "        self.data = data\n",
    "    # method for getting the data field of the node\n",
    "    def get_data(self):\n",
    "        return self.data\n",
    "    # method for setting the next field of the node\n",
    "    def set_next(self, next):\n",
    "        self.next = next\n",
    "    # method for getting the next field of the node\n",
    "    def get_next(self):\n",
    "        return self.next\n",
    "    # returns true if the node points to another node\n",
    "    def has_next(self):\n",
    "        return self.next != None\n",
    "\n",
    "# class for defining a linked list  \n",
    "class LinkedList:\n",
    "    # initializing the list\n",
    "    def __init__(self, node=None):\n",
    "        self.length = 0\n",
    "        self.head = node"
   ]
  },
  {
   "cell_type": "markdown",
   "metadata": {},
   "source": [
    "### Print the node data of a linked list"
   ]
  },
  {
   "cell_type": "code",
   "execution_count": 20,
   "metadata": {},
   "outputs": [],
   "source": [
    "def print_linked_list():\n",
    "    # create the nodes\n",
    "    node1 = Node(1)\n",
    "    node2 = Node(2)\n",
    "    node3 = Node(3)\n",
    "    node4 = Node(4)\n",
    "    node5 = Node(5)\n",
    "    # create the linked list\n",
    "    linked_list = LinkedList(node1)\n",
    "    node1.set_next(node2)\n",
    "    node2.set_next(node3)\n",
    "    node3.set_next(node4)\n",
    "    node4.set_next(node5)\n",
    "    # print the linked list\n",
    "    current = linked_list.head\n",
    "    while current:\n",
    "        print(current.get_data())\n",
    "        current = current.get_next()"
   ]
  },
  {
   "cell_type": "code",
   "execution_count": 21,
   "metadata": {},
   "outputs": [
    {
     "name": "stdout",
     "output_type": "stream",
     "text": [
      "1\n",
      "2\n",
      "3\n",
      "4\n",
      "5\n"
     ]
    }
   ],
   "source": [
    "print_linked_list()"
   ]
  },
  {
   "cell_type": "markdown",
   "metadata": {},
   "source": [
    "### Count the length of a linked list"
   ]
  },
  {
   "cell_type": "code",
   "execution_count": 22,
   "metadata": {},
   "outputs": [],
   "source": [
    "def count_nodes():\n",
    "    # create the nodes\n",
    "    node1 = Node(1)\n",
    "    node2 = Node(2)\n",
    "    node3 = Node(3)\n",
    "    node4 = Node(4)\n",
    "    node5 = Node(5)\n",
    "    # create the linked list\n",
    "    linked_list = LinkedList(node1)\n",
    "    node1.set_next(node2)\n",
    "    node2.set_next(node3)\n",
    "    node3.set_next(node4)\n",
    "    node4.set_next(node5)\n",
    "    # count the number of nodes\n",
    "    current = linked_list.head\n",
    "    count = 0\n",
    "    while current:\n",
    "        count += 1\n",
    "        current = current.get_next()\n",
    "    return count"
   ]
  },
  {
   "cell_type": "code",
   "execution_count": 23,
   "metadata": {},
   "outputs": [
    {
     "data": {
      "text/plain": [
       "5"
      ]
     },
     "execution_count": 23,
     "metadata": {},
     "output_type": "execute_result"
    }
   ],
   "source": [
    "count_nodes()"
   ]
  }
 ],
 "metadata": {
  "kernelspec": {
   "display_name": "DSA",
   "language": "python",
   "name": "python3"
  },
  "language_info": {
   "codemirror_mode": {
    "name": "ipython",
    "version": 3
   },
   "file_extension": ".py",
   "mimetype": "text/x-python",
   "name": "python",
   "nbconvert_exporter": "python",
   "pygments_lexer": "ipython3",
   "version": "3.9.19"
  }
 },
 "nbformat": 4,
 "nbformat_minor": 2
}
