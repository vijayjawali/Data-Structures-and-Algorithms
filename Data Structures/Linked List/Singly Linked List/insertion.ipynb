{
 "cells": [
  {
   "cell_type": "markdown",
   "metadata": {},
   "source": [
    "# Data Insertion in a Singly Linked List\n",
    "\n",
    "A singly linked list is a data structure consisting of nodes where each node contains data and a pointer to the next node. There are three primary ways to insert a node into a singly linked list:\n",
    "\n",
    "## 1. Insertion at the Beginning (Before Head)\n",
    "\n",
    "This is the simplest form of insertion where a new node becomes the new head of the list.\n",
    "\n",
    "### Algorithm Steps:\n",
    "1. Create a new node with the given data\n",
    "2. Set the next pointer of the new node to point to the current head\n",
    "3. Update the head to point to the new node\n",
    "4. Increment the length of the list\n",
    "\n",
    "### Diagram:\n",
    "```\n",
    "Before Insertion:\n",
    "HEAD → [A] → [B] → [C] → NULL\n",
    "\n",
    "New Node: [X]\n",
    "\n",
    "After Insertion:\n",
    "HEAD → [X] → [A] → [B] → [C] → NULL\n",
    "```\n",
    "\n",
    "## 2. Insertion at a Random Position\n",
    "\n",
    "In this case, we insert a node at a specific position in the list.\n",
    "\n",
    "### Algorithm Steps:\n",
    "1. Create a new node with the given data\n",
    "2. If the position is 0, perform insertion at the beginning\n",
    "3. If the position is greater than or equal to the length, perform insertion at the end\n",
    "4. Otherwise:\n",
    "    - Traverse the list to find the node at position-1\n",
    "    - Set the next pointer of the new node to the next pointer of the current node\n",
    "    - Update the next pointer of the current node to point to the new node\n",
    "5. Increment the length of the list\n",
    "\n",
    "### Diagram:\n",
    "```\n",
    "Before Insertion (inserting at position 2):\n",
    "HEAD → [A] → [B] → [C] → [D] → NULL\n",
    "\n",
    "New Node: [X]\n",
    "\n",
    "Traversing to position-1 (position 1):\n",
    "HEAD → [A] → [B] → [C] → [D] → NULL\n",
    "              ↑\n",
    "        Current Position\n",
    "\n",
    "After Insertion:\n",
    "HEAD → [A] → [B] → [X] → [C] → [D] → NULL\n",
    "```\n",
    "\n",
    "## 3. Insertion at the End\n",
    "\n",
    "Here we add a new node at the end of the list.\n",
    "\n",
    "### Algorithm Steps:\n",
    "1. Create a new node with the given data\n",
    "2. If the list is empty, set the head to the new node\n",
    "3. Otherwise:\n",
    "    - Traverse to the end of the list\n",
    "    - Set the next pointer of the last node to the new node\n",
    "4. Increment the length of the list\n",
    "\n",
    "### Diagram:\n",
    "```\n",
    "Before Insertion:\n",
    "HEAD → [A] → [B] → [C] → NULL\n",
    "\n",
    "New Node: [X]\n",
    "\n",
    "After Insertion:\n",
    "HEAD → [A] → [B] → [C] → [X] → NULL\n",
    "```\n",
    "\n",
    "Each insertion method has its own time complexity:\n",
    "- Insertion at beginning: O(1) - constant time\n",
    "- Insertion at a random position: O(n) in worst case - linear time\n",
    "- Insertion at the end: O(n) - linear time (unless we maintain a tail pointer)"
   ]
  },
  {
   "cell_type": "code",
   "execution_count": 153,
   "metadata": {},
   "outputs": [],
   "source": [
    "# Node of a singly linked list\n",
    "class Node:\n",
    "    # constructor\n",
    "    def __init__(self, data=None, next=None):\n",
    "        self.data = data\n",
    "        self.next = next\n",
    "    # method for setting the data field of the node\n",
    "    def set_data(self, data):\n",
    "        self.data = data\n",
    "    # method for getting the data field of the node\n",
    "    def get_data(self):\n",
    "        return self.data\n",
    "    # method for setting the next field of the node\n",
    "    def set_next(self, next):\n",
    "        self.next = next\n",
    "    # method for getting the next field of the node\n",
    "    def get_next(self):\n",
    "        return self.next\n",
    "    # returns true if the node points to another node\n",
    "    def has_next(self):\n",
    "        return self.next != None\n",
    "\n",
    "# class for defining a linked list  \n",
    "class LinkedList:\n",
    "    # initializing the list\n",
    "    def __init__(self, node=None):\n",
    "        self.length = 0\n",
    "        self.head = node\n",
    "\n",
    "    def print_list(self):\n",
    "        current = self.head\n",
    "        while current:\n",
    "            print(current.get_data())\n",
    "            current = current.get_next()"
   ]
  },
  {
   "cell_type": "markdown",
   "metadata": {},
   "source": [
    "### insertion at the beginning"
   ]
  },
  {
   "cell_type": "code",
   "execution_count": 154,
   "metadata": {},
   "outputs": [],
   "source": [
    "def insert_at_beginning(self, data):\n",
    "    new_node = Node(data)\n",
    "    new_node.set_next(self.head)\n",
    "    self.head = new_node\n",
    "    self.length += 1\n",
    "LinkedList.insert_at_beginning = insert_at_beginning"
   ]
  },
  {
   "cell_type": "code",
   "execution_count": 155,
   "metadata": {},
   "outputs": [
    {
     "name": "stdout",
     "output_type": "stream",
     "text": [
      "1\n",
      "2\n",
      "3\n",
      "4\n",
      "5\n",
      "6\n",
      "7\n",
      "8\n",
      "9\n",
      "10\n"
     ]
    }
   ],
   "source": [
    "# create a linked list with length 10 having data from 10 to 1\n",
    "linked_list = LinkedList()\n",
    "for i in range(10, 0, -1):\n",
    "    linked_list.insert_at_beginning(i)\n",
    "linked_list.print_list()"
   ]
  },
  {
   "cell_type": "code",
   "execution_count": 156,
   "metadata": {},
   "outputs": [
    {
     "name": "stdout",
     "output_type": "stream",
     "text": [
      "0\n",
      "1\n",
      "2\n",
      "3\n",
      "4\n",
      "5\n",
      "6\n",
      "7\n",
      "8\n",
      "9\n",
      "10\n"
     ]
    }
   ],
   "source": [
    "insert_at_beginning(linked_list, 0)\n",
    "linked_list.print_list()"
   ]
  },
  {
   "cell_type": "markdown",
   "metadata": {},
   "source": [
    "### insertion at the end"
   ]
  },
  {
   "cell_type": "code",
   "execution_count": 157,
   "metadata": {},
   "outputs": [],
   "source": [
    "def insert_at_end(self, data):\n",
    "    new_node = Node(data)\n",
    "    current = self.head\n",
    "    while current.get_next() != None:\n",
    "        current = current.get_next()\n",
    "    current.set_next(new_node)\n",
    "    self.length += 1\n",
    "LinkedList.insert_at_end = insert_at_end"
   ]
  },
  {
   "cell_type": "code",
   "execution_count": 158,
   "metadata": {},
   "outputs": [
    {
     "name": "stdout",
     "output_type": "stream",
     "text": [
      "0\n",
      "1\n",
      "2\n",
      "3\n",
      "4\n",
      "5\n",
      "6\n",
      "7\n",
      "8\n",
      "9\n",
      "10\n",
      "11\n"
     ]
    }
   ],
   "source": [
    "insert_at_end(linked_list, 11)\n",
    "linked_list.print_list()"
   ]
  },
  {
   "cell_type": "code",
   "execution_count": 159,
   "metadata": {},
   "outputs": [
    {
     "data": {
      "text/plain": [
       "12"
      ]
     },
     "execution_count": 159,
     "metadata": {},
     "output_type": "execute_result"
    }
   ],
   "source": [
    "linked_list.length"
   ]
  },
  {
   "cell_type": "markdown",
   "metadata": {},
   "source": [
    "### insertion at a random position"
   ]
  },
  {
   "cell_type": "code",
   "execution_count": 160,
   "metadata": {},
   "outputs": [],
   "source": [
    "def insert_at_position(self, position, data):\n",
    "    if position > self.length or position < 0:\n",
    "        return None\n",
    "    if position == 0:\n",
    "        self.insert_at_beginning(data)\n",
    "    elif position == self.length:\n",
    "        self.insert_at_end(data)\n",
    "    else:\n",
    "        new_node = Node(data)\n",
    "        current = self.head\n",
    "        for i in range(position - 1):\n",
    "            current = current.get_next()\n",
    "        new_node.set_next(current.get_next())\n",
    "        current.set_next(new_node)\n",
    "        self.length += 1\n",
    "LinkedList.insert_at_position = insert_at_position"
   ]
  },
  {
   "cell_type": "code",
   "execution_count": 161,
   "metadata": {},
   "outputs": [
    {
     "name": "stdout",
     "output_type": "stream",
     "text": [
      "0\n",
      "1\n",
      "2\n",
      "10\n",
      "3\n",
      "4\n",
      "5\n",
      "6\n",
      "7\n",
      "8\n",
      "9\n",
      "10\n",
      "11\n"
     ]
    }
   ],
   "source": [
    "insert_at_position(linked_list, 3, 10)\n",
    "linked_list.print_list()"
   ]
  }
 ],
 "metadata": {
  "kernelspec": {
   "display_name": "DSA",
   "language": "python",
   "name": "python3"
  },
  "language_info": {
   "codemirror_mode": {
    "name": "ipython",
    "version": 3
   },
   "file_extension": ".py",
   "mimetype": "text/x-python",
   "name": "python",
   "nbconvert_exporter": "python",
   "pygments_lexer": "ipython3",
   "version": "3.9.19"
  }
 },
 "nbformat": 4,
 "nbformat_minor": 2
}
