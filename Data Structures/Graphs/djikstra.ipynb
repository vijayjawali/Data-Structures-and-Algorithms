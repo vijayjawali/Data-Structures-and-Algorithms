{
 "cells": [
  {
   "cell_type": "markdown",
   "id": "4ed5d51e",
   "metadata": {},
   "source": [
    "# Dijkstra's algorithm\n",
    "\n",
    "## Overview\n",
    "Dijkstra's algorithm finds shortest paths from a single source node to all other nodes in a weighted graph with non‑negative edge weights. It produces:\n",
    "- the minimum distance from the source to every reachable node, and\n",
    "- (optionally) a predecessor/previous map that allows reconstruction of the actual shortest paths.\n",
    "\n",
    "Key idea: repeatedly finalize the node with the smallest tentative distance (greedy choice). Once a node is finalized, its shortest distance is guaranteed.\n",
    "\n",
    "## Preconditions / assumptions\n",
    "- Graph may be directed or undirected.\n",
    "- All edge weights must be non‑negative (≥ 0). If negative weights exist, Dijkstra is not correct.\n",
    "- Graph representation: adjacency list (neighbors with weights) is typical and efficient.\n",
    "\n",
    "## Data structures used\n",
    "- distances: map/array dist[v] = current best known distance from source to v (initialized to ∞ except dist[source] = 0).\n",
    "- previous: map prev[v] = predecessor of v on the current best path (used to reconstruct paths).\n",
    "- min-priority queue (min-heap) keyed by tentative distance. Each heap entry is (distance, node). Many implementations support a decrease-key operation; a simple heap implementation pushes new entries and ignores stale entries on pop.\n",
    "\n",
    "## Pseudocode\n",
    "```text\n",
    "function Dijkstra(Graph, source):\n",
    "    for each vertex v in Graph:\n",
    "        dist[v] := ∞\n",
    "        prev[v] := null\n",
    "    dist[source] := 0\n",
    "\n",
    "    Q := min-priority-queue initialized with (0, source)\n",
    "\n",
    "    while Q not empty:\n",
    "        (d, u) := pop_min(Q)\n",
    "        if d > dist[u]:\n",
    "            continue          // stale entry\n",
    "        // u is now finalized\n",
    "        for each neighbor (v, w) of u:\n",
    "            alt := dist[u] + w\n",
    "            if alt < dist[v]:\n",
    "                dist[v] := alt\n",
    "                prev[v] := u\n",
    "                push (alt, v) into Q\n",
    "\n",
    "    return dist, prev\n",
    "```\n",
    "\n",
    "Optional early stop: if you only need shortest path to a particular target, you can stop when the target node is popped (finalized).\n",
    "\n",
    "## Correctness sketch\n",
    "- Invariant: when a node u is popped with distance d = dist[u], no shorter path to u exists. Any path to u must go through nodes whose dist is ≥ d (because heap pops smallest dist first). If a shorter path existed, it would have produced a smaller tentative value and been popped earlier. Thus finalized distances are optimal.\n",
    "- The relaxation step (alt = dist[u] + w) ensures distances never overestimate the true shortest paths and propagate improvements outward.\n",
    "\n",
    "## Complexity\n",
    "Assume V = |V| nodes, E = |E| edges.\n",
    "- With binary heap (or Python heapq, pushing duplicates, ignoring stale): O((V + E) log V) — typically simplified to O(E log V) for connected sparse graphs.\n",
    "- With Fibonacci heap (supports decrease-key): O(E + V log V).\n",
    "- Using an array or linear scan for min extraction: O(V^2) — acceptable for dense graphs or small V.\n",
    "- Memory: O(V + E) for adjacency lists + O(V) for dist/prev + heap.\n",
    "\n",
    "## Implementation notes and practical tips\n",
    "- Use adjacency lists: neighbors stored as (neighbor, weight) tuples. For unweighted graphs, treat weight = 1.\n",
    "- If using a heap without decrease-key, allow pushing multiple (dist, node) entries and on pop skip entries where dist > dist[node].\n",
    "- Keep prev pointers to reconstruct path: follow prev from target back to source and reverse.\n",
    "- For integer small bounded weights, bucket-based algorithms (Dial's algorithm) can be faster.\n",
    "- Dijkstra handles zero-weight edges fine.\n",
    "- For graphs with negative edges use Bellman-Ford (single-source) or Johnson's algorithm (all-pairs).\n",
    "\n",
    "## Variants & extensions\n",
    "- Early termination when target popped (useful for single-source single-target).\n",
    "- Multi-source shortest paths: initialize multiple sources with dist = 0 and push them into the heap.\n",
    "- All-pairs shortest paths: run Dijkstra from every vertex (or use Floyd–Warshall / Johnson depending on graph).\n",
    "- Path counting / tie-breaking: if you need the number of shortest paths or lexicographically smallest path, augment updates accordingly.\n",
    "\n",
    "## Common pitfalls\n",
    "- Running Dijkstra on graphs with negative edge weights leads to incorrect results.\n",
    "- Forgetting to handle stale heap entries when not using decrease-key can cause wrong behavior or inefficiency; always compare popped distance against current dist[node].\n",
    "- Using adjacency matrix and linear scans is fine for small V but scales poorly for sparse graphs.\n",
    "\n",
    "## Example (concise)\n",
    "- Initialize dist[source] = 0, others ∞.\n",
    "- Pop source, relax neighbors — update dist and prev.\n",
    "- Continue popping smallest tentative node; once popped, its distance is final.\n",
    "- Reconstruct path to target by following prev pointers back to source.\n",
    "\n",
    "Applications: routing, map navigation, network optimization, shortest-path subroutines in larger algorithms."
   ]
  },
  {
   "cell_type": "code",
   "execution_count": 1,
   "id": "176b5fae",
   "metadata": {},
   "outputs": [],
   "source": [
    "import heapq\n",
    "\n",
    "class Graph:\n",
    "    def __init__(self, directed=False):\n",
    "        self.directed = directed\n",
    "        self.adjacency_list = {}\n",
    "\n",
    "    def __repr__(self):\n",
    "        graph_str = \"\"\n",
    "        for node, neighbors in self.adjacency_list.items():\n",
    "            graph_str += f\"{node} -> {neighbors}\\n\"\n",
    "        return graph_str\n",
    "\n",
    "    def add_node(self, node):\n",
    "        if node not in self.adjacency_list:\n",
    "            self.adjacency_list[node] = set()\n",
    "        else:\n",
    "            raise ValueError(\"Node already exists.\")\n",
    "\n",
    "    def remove_node(self, node):\n",
    "        if node not in self.adjacency_list:\n",
    "            raise ValueError(\"Node does not exist.\")\n",
    "        for neighbors in self.adjacency_list.values():\n",
    "            neighbors.discard(node)\n",
    "        del self.adjacency_list[node]\n",
    "\n",
    "    def add_edge(self, from_node, to_node, weight=None):\n",
    "        if from_node not in self.adjacency_list:\n",
    "            self.add_node(from_node)\n",
    "        if to_node not in self.adjacency_list:\n",
    "            self.add_node(to_node)\n",
    "        if weight is None:\n",
    "            self.adjacency_list[from_node].add(to_node)\n",
    "            if not self.directed:\n",
    "                self.adjacency_list[to_node].add(from_node)\n",
    "        else:\n",
    "            self.adjacency_list[from_node].add((to_node, weight))\n",
    "            if not self.directed:\n",
    "                self.adjacency_list[to_node].add((from_node, weight))\n",
    "\n",
    "    def remove_edge(self, from_node, to_node):\n",
    "        if from_node in self.adjacency_list and to_node in self.adjacency_list[from_node]:\n",
    "            self.adjacency_list[from_node].remove(to_node)\n",
    "            if not self.directed and to_node in self.adjacency_list:\n",
    "                if from_node in self.adjacency_list[to_node]:\n",
    "                    self.adjacency_list[to_node].remove(from_node)\n",
    "        else:\n",
    "            raise ValueError(\"Edge does not exist.\")\n",
    "\n",
    "    def get_neighbors(self, node):\n",
    "        return self.adjacency_list.get(node, set())\n",
    "\n",
    "    def has_node(self, node):\n",
    "        return node in self.adjacency_list\n",
    "\n",
    "    def has_edge(self, from_node, to_node):\n",
    "        if from_node in self.adjacency_list:\n",
    "            return to_node in self.adjacency_list[from_node]\n",
    "        return False\n",
    "\n",
    "    def get_nodes(self):\n",
    "        return list(self.adjacency_list.keys())\n",
    "\n",
    "    def get_edges(self):\n",
    "        edges = []\n",
    "        for from_node, neighbors in self.adjacency_list.items():\n",
    "            for to_node in neighbors:\n",
    "                edges.append((from_node, to_node))\n",
    "        return edges\n",
    "\n",
    "    def bfs(self, start):\n",
    "        visited = set()\n",
    "        queue = [start]\n",
    "        order = []\n",
    "        while queue:\n",
    "            node = queue.pop(0)\n",
    "            if node not in visited:\n",
    "                visited.add(node)\n",
    "                order.append(node)\n",
    "                neighbors = self.get_neighbors(node)\n",
    "                for neighbor in neighbors:\n",
    "                    # If edges are weighted, neighbor might be a tuple\n",
    "                    if isinstance(neighbor, tuple):\n",
    "                        neighbor = neighbor[0]\n",
    "                    if neighbor not in visited:\n",
    "                        queue.append(neighbor)\n",
    "        return order\n",
    "\n",
    "    def dfs(self, start):\n",
    "        visited = set()\n",
    "        stack = [start]\n",
    "        order = []\n",
    "        while stack:\n",
    "            node = stack.pop()\n",
    "            if node not in visited:\n",
    "                visited.add(node)\n",
    "                order.append(node)\n",
    "                neighbors = self.get_neighbors(node)\n",
    "                for neighbor in sorted(neighbors, reverse=True):\n",
    "                    if isinstance(neighbor, tuple):\n",
    "                        neighbor = neighbor[0]\n",
    "                    if neighbor not in visited:\n",
    "                        stack.append(neighbor)\n",
    "        return order\n"
   ]
  },
  {
   "cell_type": "code",
   "execution_count": 2,
   "id": "03fba26f",
   "metadata": {},
   "outputs": [],
   "source": [
    "def dijkstra(self, start, target=None):\n",
    "    \"\"\"\n",
    "    Compute shortest paths from start to all nodes or to a specific target.\n",
    "    Returns:\n",
    "        - if target is None: (distances_dict, previous_dict)\n",
    "        - if target provided: (distance_to_target, path_list) or (None, []) if unreachable\n",
    "    \"\"\"\n",
    "    # Validate that the start node exists in the graph\n",
    "    if start not in self.adjacency_list:\n",
    "        raise ValueError(\"Start node not in graph\")\n",
    "\n",
    "    # Initialize distances to infinity and previous pointers to None\n",
    "    # distances: tentative shortest known distance from start to each node\n",
    "    # previous: to reconstruct the shortest path tree (previous[node] = predecessor on path)\n",
    "    distances = {node: float('inf') for node in self.get_nodes()}\n",
    "    previous = {node: None for node in self.get_nodes()}\n",
    "    distances[start] = 0\n",
    "\n",
    "    # Min-heap priority queue stores (distance, node). We always pop the node with smallest tentative distance.\n",
    "    heap = [(0, start)]\n",
    "    while heap:\n",
    "        # Extract node u with smallest known distance dist_u\n",
    "        dist_u, u = heapq.heappop(heap)\n",
    "        # If this distance is stale (we already found a better path), skip processing\n",
    "        if dist_u > distances[u]:\n",
    "            continue\n",
    "\n",
    "        # Optional early exit: if we're looking for a specific target and we popped it, its shortest distance is finalized\n",
    "        if target is not None and u == target:\n",
    "            break\n",
    "\n",
    "        # Relax all edges (u -> v). For each neighbor v with edge weight w:\n",
    "        #   alt = dist_u + w is the distance to v via u.\n",
    "        #   If alt is better than current distances[v], update distances and previous and push the new tentative distance into the heap.\n",
    "        for nbr in self.get_neighbors(u):\n",
    "            if isinstance(nbr, tuple):\n",
    "                v, w = nbr\n",
    "            else:\n",
    "                # For unweighted graphs treat each edge as weight 1\n",
    "                v, w = nbr, 1  # default weight for unweighted edges\n",
    "            alt = dist_u + w\n",
    "            # Found a shorter path to v via u\n",
    "            if alt < distances[v]:\n",
    "                distances[v] = alt\n",
    "                previous[v] = u\n",
    "                # Push updated tentative distance for v into heap. We may push multiple entries for v; stale ones are ignored above.\n",
    "                heapq.heappush(heap, (alt, v))\n",
    "\n",
    "    # If no specific target requested, return all distances and the previous map for path reconstruction\n",
    "    if target is None:\n",
    "        return distances, previous\n",
    "\n",
    "    # If target requested but unreachable, indicate it\n",
    "    if distances[target] == float('inf'):\n",
    "        return None, []\n",
    "    # Otherwise reconstruct the shortest path from start to target using the previous pointers\n",
    "    path = []\n",
    "    node = target\n",
    "    while node is not None:\n",
    "        path.append(node)\n",
    "        node = previous[node]\n",
    "    path.reverse()\n",
    "    return distances[target], path\n",
    "\n",
    "Graph.dijkstra = dijkstra\n"
   ]
  },
  {
   "cell_type": "markdown",
   "id": "e16d7964",
   "metadata": {},
   "source": [
    "#### Example graph (undirected, weighted):\n",
    "\n",
    "```\n",
    "        (4)\n",
    "A ───────────── B\n",
    " \\             / \\\n",
    "  \\ (2)    (1)/   \\ (5)\n",
    "   \\         /     \\\n",
    "    \\       /       \\\n",
    "     \\    /          \\\n",
    "       C ────(8)───── D ──(6)── Z\n",
    "        \\             /\n",
    "         \\(10)    (2)/\n",
    "          \\         /\n",
    "            \\     /\n",
    "               E \n",
    "\n",
    "```\n",
    "\n",
    "Edges:\n",
    "- A-B: 4\n",
    "- A-C: 2\n",
    "- B-C: 1\n",
    "- B-D: 5\n",
    "- C-D: 8\n",
    "- C-E: 10\n",
    "- D-E: 2\n",
    "- D-Z: 6\n",
    "\n",
    "Goal: run Dijkstra from A, compute all shortest distances, and show shortest path A -> Z.\n",
    "\n",
    "Algorithm notes (concise):\n",
    "- Initialize distances: dist[A]=0, others=∞. Use a min-heap of (distance, node).\n",
    "- Repeatedly pop the node u with smallest tentative distance; this distance is final for u.\n",
    "- For each neighbor v of u with edge weight w, compute alt = dist[u] + w. If alt < dist[v], update dist[v] and previous[v], and push (alt, v) onto the heap.\n",
    "- Heap may contain stale entries for a node; skip them when popped by comparing with current dist[node].\n",
    "- Optionally stop early when target is popped (finalized).\n",
    "\n",
    "Step-by-step trace (major events):\n",
    "\n",
    "Initial state:\n",
    "- dist: {A:0, B:∞, C:∞, D:∞, E:∞, Z:∞}\n",
    "- heap: [(0, A)]\n",
    "- visited: {}\n",
    "\n",
    "1) Pop (0, A). Relax neighbors B and C:\n",
    "- from A: B = 0 + 4 = 4 (prev[B]=A), C = 0 + 2 = 2 (prev[C]=A)\n",
    "- dist: {A:0, B:4, C:2, D:∞, E:∞, Z:∞}\n",
    "- heap: [(2, C), (4, B)]\n",
    "- visited: {A}\n",
    "\n",
    "2) Pop (2, C). Relax neighbors B, D, E:\n",
    "- via C -> B: alt = 2 + 1 = 3 < 4 ⇒ update B=3 (prev[B]=C)\n",
    "- via C -> D: alt = 2 + 8 = 10 ⇒ D=10 (prev[D]=C)\n",
    "- via C -> E: alt = 2 + 10 = 12 ⇒ E=12 (prev[E]=C)\n",
    "- dist: {A:0, B:3, C:2, D:10, E:12, Z:∞}\n",
    "- heap: [(3, B), (4, B) /*stale*/, (10, D), (12, E)]\n",
    "- visited: {A, C}\n",
    "\n",
    "3) Pop (3, B). Relax neighbors D (and A/C already visited):\n",
    "- via B -> D: alt = 3 + 5 = 8 < 10 ⇒ update D=8 (prev[D]=B)\n",
    "- dist: {A:0, B:3, C:2, D:8, E:12, Z:∞}\n",
    "- heap: [(4, B) /*stale*/, (8, D), (10, D) /*stale*/, (12, E)]\n",
    "- visited: {A, C, B}\n",
    "\n",
    "4) Pop (4, B) — stale (dist[B]=3) ⇒ skip.\n",
    "\n",
    "5) Pop (8, D). Relax neighbors E and Z (B/C already visited):\n",
    "- via D -> E: alt = 8 + 2 = 10 < 12 ⇒ update E=10 (prev[E]=D)\n",
    "- via D -> Z: alt = 8 + 6 = 14 ⇒ Z=14 (prev[Z]=D)\n",
    "- dist: {A:0, B:3, C:2, D:8, E:10, Z:14}\n",
    "- heap: [(10, D) /*stale*/, (12, E) /*stale*/, (10, E), (14, Z)]\n",
    "- visited: {A, C, B, D}\n",
    "\n",
    "6) Pop (10, D) — stale ⇒ skip.\n",
    "\n",
    "7) Pop (10, E). Relax neighbors (all lead to visited nodes or not improve distances): no change.\n",
    "- visited: {A, C, B, D, E}\n",
    "\n",
    "8) Pop (12, E) — stale ⇒ skip.\n",
    "\n",
    "9) Pop (14, Z). Z finalized; if we requested target=Z we can stop. Final distances obtained.\n",
    "\n",
    "Final distances (from A):\n",
    "- A: 0\n",
    "- B: 3    (A -> C -> B)\n",
    "- C: 2    (A -> C)\n",
    "- D: 8    (A -> C -> B -> D)\n",
    "- E: 10   (A -> C -> B -> D -> E)\n",
    "- Z: 14   (A -> C -> B -> D -> Z)\n",
    "\n",
    "Shortest path A -> Z (reconstructed via previous pointers):\n",
    "- prev[Z] = D, prev[D] = B, prev[B] = C, prev[C] = A ⇒ path = [A, C, B, D, Z], distance = 14\n",
    "\n",
    "Remarks / visualization tips:\n",
    "- The heap may contain multiple entries for the same node; stale entries are ignored when popped (compare with current dist[node]).\n",
    "- Dijkstra finalizes a node the first time it is popped from the min-heap with its current best distance.\n",
    "- For this graph, the cheapest route to Z uses the multi-hop path A -> C -> B -> D -> Z rather than any direct long edge."
   ]
  },
  {
   "cell_type": "code",
   "execution_count": 3,
   "id": "adae3802",
   "metadata": {},
   "outputs": [
    {
     "name": "stdout",
     "output_type": "stream",
     "text": [
      "Distances from A:\n",
      "  A: 0\n",
      "  B: 3\n",
      "  C: 2\n",
      "  D: 8\n",
      "  E: 10\n",
      "  Z: 14\n",
      "\n",
      "Shortest path A -> Z:\n",
      "  distance = 14\n",
      "  path = ['A', 'C', 'B', 'D', 'Z']\n"
     ]
    }
   ],
   "source": [
    "\n",
    "g = Graph(directed=False)\n",
    "\n",
    "g.add_edge('A', 'B', 4)\n",
    "g.add_edge('A', 'C', 2)\n",
    "g.add_edge('B', 'C', 1)\n",
    "g.add_edge('B', 'D', 5)\n",
    "g.add_edge('C', 'D', 8)\n",
    "g.add_edge('C', 'E', 10)\n",
    "g.add_edge('D', 'E', 2)\n",
    "g.add_edge('D', 'Z', 6)\n",
    "\n",
    "# shortest distances from A to all nodes\n",
    "distances, prev = g.dijkstra('A')\n",
    "print('Distances from A:')\n",
    "for node, d in distances.items():\n",
    "    print(f\"  {node}: {d}\")\n",
    "\n",
    "# shortest path from A to Z\n",
    "distance_to_Z, path_to_Z = g.dijkstra('A', target='Z')\n",
    "print('\\nShortest path A -> Z:')\n",
    "print('  distance =', distance_to_Z)\n",
    "print('  path =', path_to_Z)"
   ]
  },
  {
   "cell_type": "code",
   "execution_count": 4,
   "id": "e9ffb5bb",
   "metadata": {},
   "outputs": [
    {
     "name": "stdout",
     "output_type": "stream",
     "text": [
      "Ex1 - Single node -> distance: 0 path: ['S']\n"
     ]
    }
   ],
   "source": [
    "# Example 1: Single node (start == target)\n",
    "g1 = Graph()\n",
    "g1.add_node('S')\n",
    "dist, path = g1.dijkstra('S', target='S')\n",
    "print('Ex1 - Single node -> distance:', dist, 'path:', path)"
   ]
  },
  {
   "cell_type": "code",
   "execution_count": 5,
   "id": "f3572b39",
   "metadata": {},
   "outputs": [
    {
     "name": "stdout",
     "output_type": "stream",
     "text": [
      "Ex2 - Unweighted A->D distance: 3 path: ['A', 'B', 'C', 'D']\n"
     ]
    }
   ],
   "source": [
    "# Example 2: Unweighted undirected graph (implicit weight=1)\n",
    "g2 = Graph()\n",
    "g2.add_edge('A', 'B')\n",
    "g2.add_edge('B', 'C')\n",
    "g2.add_edge('C', 'D')\n",
    "dist, path = g2.dijkstra('A', target='D')\n",
    "print('Ex2 - Unweighted A->D distance:', dist, 'path:', path)"
   ]
  },
  {
   "cell_type": "code",
   "execution_count": 6,
   "id": "19f0ead3",
   "metadata": {},
   "outputs": [
    {
     "name": "stdout",
     "output_type": "stream",
     "text": [
      "Ex3 - Multiple equal shortest paths A->D distance: 2 path: ['A', 'B', 'D']\n"
     ]
    }
   ],
   "source": [
    "# Example 3: Weighted graph with multiple equal shortest paths\n",
    "g3 = Graph()\n",
    "g3.add_edge('A', 'B', 1)\n",
    "g3.add_edge('A', 'C', 1)\n",
    "g3.add_edge('B', 'D', 1)\n",
    "g3.add_edge('C', 'D', 1)\n",
    "dist, path = g3.dijkstra('A', target='D')\n",
    "print('Ex3 - Multiple equal shortest paths A->D distance:', dist, 'path:', path)"
   ]
  },
  {
   "cell_type": "code",
   "execution_count": 7,
   "id": "2476c9fe",
   "metadata": {},
   "outputs": [
    {
     "name": "stdout",
     "output_type": "stream",
     "text": [
      "Ex4 - Disconnected A->Y result: (None, [])\n"
     ]
    }
   ],
   "source": [
    "# Example 4: Disconnected graph where target unreachable\n",
    "g4 = Graph()\n",
    "g4.add_edge('A', 'B', 2)\n",
    "g4.add_edge('X', 'Y', 3)\n",
    "res = g4.dijkstra('A', target='Y')\n",
    "print('Ex4 - Disconnected A->Y result:', res)"
   ]
  },
  {
   "cell_type": "code",
   "execution_count": 8,
   "id": "c5af4292",
   "metadata": {},
   "outputs": [
    {
     "name": "stdout",
     "output_type": "stream",
     "text": [
      "Ex5 - Directed A->C distance: 3 path: ['A', 'B', 'C']\n",
      "Ex5 - Directed C->A: (None, [])\n"
     ]
    }
   ],
   "source": [
    "# Example 5: Directed graph asymmetry\n",
    "g5 = Graph(directed=True)\n",
    "g5.add_edge('A', 'B', 1)\n",
    "g5.add_edge('B', 'C', 2)\n",
    "# Note: no edge C->A, so paths differ\n",
    "dist_ac, path_ac = g5.dijkstra('A', target='C')\n",
    "print('Ex5 - Directed A->C distance:', dist_ac, 'path:', path_ac)\n",
    "try:\n",
    "    # from C to A should be unreachable\n",
    "    print('Ex5 - Directed C->A:', g5.dijkstra('C', target='A'))\n",
    "except Exception as e:\n",
    "    print('Ex5 - C->A raised:', e)"
   ]
  },
  {
   "cell_type": "code",
   "execution_count": 9,
   "id": "90973d08",
   "metadata": {},
   "outputs": [
    {
     "name": "stdout",
     "output_type": "stream",
     "text": [
      "Ex6 - Zero-weight path A->C distance: 2 path: ['A', 'B', 'C']\n"
     ]
    }
   ],
   "source": [
    "# Example 6: Zero-weight edges\n",
    "g6 = Graph()\n",
    "g6.add_edge('A', 'B', 0)\n",
    "g6.add_edge('B', 'C', 2)\n",
    "g6.add_edge('A', 'C', 5)\n",
    "dist_ac, path_ac = g6.dijkstra('A', target='C')\n",
    "print('Ex6 - Zero-weight path A->C distance:', dist_ac, 'path:', path_ac)"
   ]
  },
  {
   "cell_type": "code",
   "execution_count": 10,
   "id": "5d4c91fe",
   "metadata": {},
   "outputs": [
    {
     "name": "stdout",
     "output_type": "stream",
     "text": [
      "Ex7 - Cyclic graph A->D distance: 3 path: ['A', 'B', 'D']\n"
     ]
    }
   ],
   "source": [
    "# Example 7: Graph with cycles\n",
    "g7 = Graph()\n",
    "g7.add_edge('A', 'B', 1)\n",
    "g7.add_edge('B', 'C', 1)\n",
    "g7.add_edge('C', 'A', 1)\n",
    "g7.add_edge('B', 'D', 2)\n",
    "dist_ad, path_ad = g7.dijkstra('A', target='D')\n",
    "print('Ex7 - Cyclic graph A->D distance:', dist_ad, 'path:', path_ad)"
   ]
  },
  {
   "cell_type": "code",
   "execution_count": 11,
   "id": "d427903a",
   "metadata": {},
   "outputs": [
    {
     "name": "stdout",
     "output_type": "stream",
     "text": [
      "Ex8 - distances from 1: {1: 0, 2: 1, 3: 2, 4: inf}\n",
      "Ex8 - 1->4 should be unreachable: (None, [])\n"
     ]
    }
   ],
   "source": [
    "# Example 8: Multiple components with an isolated node\n",
    "g8 = Graph()\n",
    "g8.add_edge(1, 2, 1)\n",
    "g8.add_edge(2, 3, 1)\n",
    "g8.add_node(4)  # isolated\n",
    "distances, _ = g8.dijkstra(1)\n",
    "print('Ex8 - distances from 1:', distances)\n",
    "print('Ex8 - 1->4 should be unreachable:', g8.dijkstra(1, target=4))"
   ]
  },
  {
   "cell_type": "code",
   "execution_count": 12,
   "id": "fdff529d",
   "metadata": {},
   "outputs": [
    {
     "name": "stdout",
     "output_type": "stream",
     "text": [
      "Ex9 - S->T distance: 9 path: ['S', 'B', 'C', 'T']\n"
     ]
    }
   ],
   "source": [
    "# Example 9: Larger graph typical scenario\n",
    "g9 = Graph()\n",
    "g9.add_edge('S', 'A', 7)\n",
    "g9.add_edge('S', 'B', 2)\n",
    "g9.add_edge('B', 'A', 3)\n",
    "g9.add_edge('A', 'C', 4)\n",
    "g9.add_edge('B', 'C', 6)\n",
    "g9.add_edge('C', 'T', 1)\n",
    "g9.add_edge('A', 'T', 5)\n",
    "dist_st, path_st = g9.dijkstra('S', target='T')\n",
    "print('Ex9 - S->T distance:', dist_st, 'path:', path_st)"
   ]
  },
  {
   "cell_type": "code",
   "execution_count": 13,
   "id": "596a15b3",
   "metadata": {},
   "outputs": [
    {
     "name": "stdout",
     "output_type": "stream",
     "text": [
      "Ex10 - S->X distance (via Y): 8 path: ['S', 'Y', 'X']\n"
     ]
    }
   ],
   "source": [
    "# Example 10: Alternative weighted edges selecting cheaper multi-hop\n",
    "g10 = Graph()\n",
    "g10.add_edge('S', 'X', 10)\n",
    "g10.add_edge('S', 'Y', 5)\n",
    "g10.add_edge('Y', 'X', 3)\n",
    "dist_sx, path_sx = g10.dijkstra('S', target='X')\n",
    "print('Ex10 - S->X distance (via Y):', dist_sx, 'path:', path_sx)"
   ]
  },
  {
   "cell_type": "code",
   "execution_count": 14,
   "id": "57f347a7",
   "metadata": {},
   "outputs": [
    {
     "name": "stdout",
     "output_type": "stream",
     "text": [
      "Ex11 - query from missing node:\n",
      "Ex11 - caught exception as expected: ValueError - Start node not in graph\n"
     ]
    }
   ],
   "source": [
    "# Example 11: Error handling when start not in graph\n",
    "g11 = Graph()\n",
    "g11.add_edge('A', 'B', 1)\n",
    "try:\n",
    "    print('Ex11 - query from missing node:')\n",
    "    g11.dijkstra('Missing')\n",
    "except Exception as e:\n",
    "    print('Ex11 - caught exception as expected:', type(e).__name__, '-', e)"
   ]
  },
  {
   "cell_type": "code",
   "execution_count": 15,
   "id": "825b9321",
   "metadata": {},
   "outputs": [
    {
     "name": "stdout",
     "output_type": "stream",
     "text": [
      "Ex12 - A->B distance: 2 path: ['A', 'B']\n"
     ]
    }
   ],
   "source": [
    "# Example 12: Immediate neighbor target\n",
    "g12 = Graph()\n",
    "g12.add_edge('A', 'B', 2)\n",
    "dist_ab, path_ab = g12.dijkstra('A', target='B')\n",
    "print('Ex12 - A->B distance:', dist_ab, 'path:', path_ab)"
   ]
  }
 ],
 "metadata": {
  "kernelspec": {
   "display_name": "DSA",
   "language": "python",
   "name": "python3"
  },
  "language_info": {
   "codemirror_mode": {
    "name": "ipython",
    "version": 3
   },
   "file_extension": ".py",
   "mimetype": "text/x-python",
   "name": "python",
   "nbconvert_exporter": "python",
   "pygments_lexer": "ipython3",
   "version": "3.9.19"
  }
 },
 "nbformat": 4,
 "nbformat_minor": 5
}
