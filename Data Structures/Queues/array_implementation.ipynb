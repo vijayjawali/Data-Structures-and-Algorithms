{
 "cells": [
  {
   "cell_type": "markdown",
   "metadata": {},
   "source": [
    "# Circular Array Implementation of a Queue\n",
    "\n",
    "A **circular array queue** is an efficient implementation of the queue abstract data type (ADT) that uses a fixed-size array and treats it as circular by connecting the end to the beginning.\n",
    "\n",
    "## Basic Concept\n",
    "\n",
    "In a traditional array-based queue implementation, we face the problem of **false overflow** - when the rear pointer reaches the end of the array despite having empty positions at the beginning after dequeues. The circular implementation solves this by treating the array as a circle rather than a linear structure.\n",
    "\n",
    "## Queue ADT Operations\n",
    "\n",
    "### 1. Initialization\n",
    "- Create an array of fixed size\n",
    "- Initialize `front = rear = -1` (empty queue condition)\n",
    "\n",
    "### 2. Enqueue(element)\n",
    "- Check if queue is full\n",
    "- If empty, set `front = rear = 0`\n",
    "- Otherwise, move `rear` to next circular position: `rear = (rear + 1) % size`\n",
    "- Insert element at `rear` position\n",
    "\n",
    "### 3. Dequeue()\n",
    "- Check if queue is empty\n",
    "- Retrieve element at `front` position\n",
    "- If `front == rear`, reset to `front = rear = -1` (queue becomes empty)\n",
    "- Otherwise, move `front` to next position: `front = (front + 1) % size`\n",
    "- Return the retrieved element\n",
    "\n",
    "### 4. isEmpty()\n",
    "- Return `true` if `front == -1` (or `front == rear == -1`)\n",
    "\n",
    "### 5. isFull()\n",
    "- Return `true` if `(rear + 1) % size == front`\n",
    "\n",
    "### 6. peek()/front()\n",
    "- Return element at `front` position without removing it\n",
    "\n",
    "## Diagrammatic Representation\n",
    "\n",
    "```\n",
    "Initial empty queue:\n",
    "Array: [  |  |  |  |  ]\n",
    "front: -1, rear: -1\n",
    "\n",
    "After enqueue(A), enqueue(B), enqueue(C):\n",
    "Array: [ A | B | C |  |  ]\n",
    "front: 0, rear: 2\n",
    "\n",
    "After dequeue() (removes A):\n",
    "Array: [   | B | C |  |  ]\n",
    "front: 1, rear: 2\n",
    "\n",
    "After enqueue(D), enqueue(E):\n",
    "Array: [ E | B | C | D |  ]\n",
    "front: 1, rear: 0 (wrapped around!)\n",
    "\n",
    "After dequeue(), dequeue() (removes B, C):\n",
    "Array: [ E |   |   | D |  ]\n",
    "front: 3, rear: 0\n",
    "```\n",
    "\n",
    "## Advantages\n",
    "\n",
    "1. Efficient space utilization by reusing empty positions\n",
    "2. Constant time O(1) operations for all basic queue functions\n",
    "3. Avoids the need to shift elements as in linear queue implementations"
   ]
  },
  {
   "cell_type": "code",
   "execution_count": 7,
   "metadata": {},
   "outputs": [],
   "source": [
    "class Queue(object):\n",
    "    def __init__(self, limit =5):\n",
    "        self.queue = []\n",
    "        self.limit = limit\n",
    "        self.front = None\n",
    "        self.rear = None\n",
    "        self.size = 0\n",
    "\n",
    "    def is_empty(self):\n",
    "        return self.size <= 0\n",
    "    \n",
    "    def size(self):\n",
    "        return self.size"
   ]
  },
  {
   "cell_type": "code",
   "execution_count": 8,
   "metadata": {},
   "outputs": [],
   "source": [
    "# Function to add an item to the queue. It changes rear and size\n",
    "# Time Complexity: O(1)\n",
    "# Space Complexity: O(1)\n",
    "def enQueue(self, item):\n",
    "    if self.size >= self.limit:\n",
    "        print(\"Queue Overflow!\")\n",
    "        return\n",
    "    else:\n",
    "        self.queue.append(item)\n",
    "    \n",
    "    if self.front is None:\n",
    "        self.front = self.rear = 0\n",
    "    else:\n",
    "        self.rear = self.size\n",
    "    self.size += 1\n",
    "    print(\"Queue after enQueue\", self.queue)\n",
    "\n",
    "Queue.enQueue = enQueue"
   ]
  },
  {
   "cell_type": "code",
   "execution_count": null,
   "metadata": {},
   "outputs": [],
   "source": [
    "# Fiunction to remove an element from the queue\n",
    "# Time complexity: O(1)\n",
    "# Space complexity: O(1)\n",
    "def deQueue(self):\n",
    "    if self.size <= 0:\n",
    "        print(\"Queue Underflow!\")\n",
    "        return 0\n",
    "    else:\n",
    "        self.queue.pop(0)\n",
    "        self.size -= 1\n",
    "        if self.size == 0:\n",
    "            self.front = self.rear = None\n",
    "        else:\n",
    "            self.rear = self.size - 1\n",
    "        print(\"Queue after deQueue\", self.queue)\n",
    "\n",
    "Queue.deQueue = deQueue"
   ]
  },
  {
   "cell_type": "code",
   "execution_count": 10,
   "metadata": {},
   "outputs": [],
   "source": [
    "# Function to see the rear of the queue\n",
    "def queueRear(self):\n",
    "    if self.rear is None:\n",
    "        print(\"Sorry, the queue is empty!\")\n",
    "        raise IndexError\n",
    "    return self.queue[self.rear]\n",
    "\n",
    "Queue.queueRear = queueRear"
   ]
  },
  {
   "cell_type": "code",
   "execution_count": 11,
   "metadata": {},
   "outputs": [],
   "source": [
    "# Function to see the front of the queue\n",
    "def queueFront(self):\n",
    "    if self.front is None:\n",
    "        print(\"Sorry, the queue is empty!\")\n",
    "        raise IndexError\n",
    "    return self.queue[self.front]\n",
    "\n",
    "Queue.queueFront = queueFront"
   ]
  },
  {
   "cell_type": "code",
   "execution_count": 12,
   "metadata": {},
   "outputs": [
    {
     "name": "stdout",
     "output_type": "stream",
     "text": [
      "Queue after enQueue ['first']\n",
      "Front:  first\n",
      "Rear:  first\n"
     ]
    }
   ],
   "source": [
    "que = Queue()\n",
    "que.enQueue(\"first\")\n",
    "print(\"Front: \", que.queueFront())\n",
    "print(\"Rear: \", que.queueRear())"
   ]
  },
  {
   "cell_type": "code",
   "execution_count": 13,
   "metadata": {},
   "outputs": [
    {
     "name": "stdout",
     "output_type": "stream",
     "text": [
      "Queue after enQueue ['first', 'second']\n",
      "Front:  first\n",
      "Rear:  second\n"
     ]
    }
   ],
   "source": [
    "que.enQueue(\"second\")\n",
    "print(\"Front: \", que.queueFront())\n",
    "print(\"Rear: \", que.queueRear())"
   ]
  },
  {
   "cell_type": "code",
   "execution_count": 14,
   "metadata": {},
   "outputs": [
    {
     "name": "stdout",
     "output_type": "stream",
     "text": [
      "Queue after enQueue ['first', 'second', 'third']\n",
      "Front:  first\n",
      "Rear:  third\n"
     ]
    }
   ],
   "source": [
    "que.enQueue(\"third\")\n",
    "print(\"Front: \", que.queueFront())\n",
    "print(\"Rear: \", que.queueRear())"
   ]
  },
  {
   "cell_type": "code",
   "execution_count": 15,
   "metadata": {},
   "outputs": [
    {
     "name": "stdout",
     "output_type": "stream",
     "text": [
      "Queue after deQueue ['second', 'third']\n",
      "Front:  second\n",
      "Rear:  third\n"
     ]
    }
   ],
   "source": [
    "que.deQueue()\n",
    "print(\"Front: \", que.queueFront())\n",
    "print(\"Rear: \", que.queueRear())"
   ]
  },
  {
   "cell_type": "code",
   "execution_count": null,
   "metadata": {},
   "outputs": [
    {
     "name": "stdout",
     "output_type": "stream",
     "text": [
      "Queue after deQueue ['third']\n",
      "Front:  third\n",
      "Rear:  third\n"
     ]
    }
   ],
   "source": [
    "que.deQueue()\n",
    "print(\"Front: \", que.queueFront())\n",
    "print(\"Rear: \", que.queueRear())"
   ]
  },
  {
   "cell_type": "code",
   "execution_count": 17,
   "metadata": {},
   "outputs": [
    {
     "name": "stdout",
     "output_type": "stream",
     "text": [
      "Queue after enQueue ['third', 'fourth']\n",
      "Queue after enQueue ['third', 'fourth', 'fifth']\n",
      "Front:  third\n",
      "Rear:  fifth\n",
      "Queue after enQueue ['third', 'fourth', 'fifth', 'sixth']\n",
      "Queue after enQueue ['third', 'fourth', 'fifth', 'sixth', 'seventh']\n",
      "Queue Overflow!\n",
      "Front:  third\n",
      "Rear:  seventh\n",
      "Queue Overflow!\n"
     ]
    }
   ],
   "source": [
    "# test queue overflow\n",
    "que.enQueue(\"fourth\")\n",
    "que.enQueue(\"fifth\")\n",
    "print(\"Front: \", que.queueFront())\n",
    "print(\"Rear: \", que.queueRear())\n",
    "que.enQueue(\"sixth\")\n",
    "que.enQueue(\"seventh\")\n",
    "que.enQueue(\"eighth\")\n",
    "print(\"Front: \", que.queueFront())\n",
    "print(\"Rear: \", que.queueRear())\n",
    "que.enQueue(\"ninth\")    # Queue Overflow!"
   ]
  },
  {
   "cell_type": "code",
   "execution_count": 18,
   "metadata": {},
   "outputs": [
    {
     "name": "stdout",
     "output_type": "stream",
     "text": [
      "Queue after deQueue ['fourth', 'fifth', 'sixth', 'seventh']\n",
      "Queue after deQueue ['fifth', 'sixth', 'seventh']\n",
      "Queue after deQueue ['sixth', 'seventh']\n",
      "Queue after deQueue ['seventh']\n",
      "Queue after deQueue []\n",
      "Queue Underflow!\n"
     ]
    },
    {
     "data": {
      "text/plain": [
       "0"
      ]
     },
     "execution_count": 18,
     "metadata": {},
     "output_type": "execute_result"
    }
   ],
   "source": [
    "# test queue underflow\n",
    "que.deQueue()\n",
    "que.deQueue()\n",
    "que.deQueue()\n",
    "que.deQueue()\n",
    "que.deQueue()\n",
    "que.deQueue()    # Queue Underflow!"
   ]
  },
  {
   "cell_type": "code",
   "execution_count": null,
   "metadata": {},
   "outputs": [],
   "source": []
  }
 ],
 "metadata": {
  "kernelspec": {
   "display_name": "DSA",
   "language": "python",
   "name": "python3"
  },
  "language_info": {
   "codemirror_mode": {
    "name": "ipython",
    "version": 3
   },
   "file_extension": ".py",
   "mimetype": "text/x-python",
   "name": "python",
   "nbconvert_exporter": "python",
   "pygments_lexer": "ipython3",
   "version": "3.9.19"
  }
 },
 "nbformat": 4,
 "nbformat_minor": 2
}
