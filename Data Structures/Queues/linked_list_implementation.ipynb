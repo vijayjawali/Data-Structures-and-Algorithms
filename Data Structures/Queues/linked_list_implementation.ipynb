{
 "cells": [
  {
   "cell_type": "markdown",
   "metadata": {},
   "source": [
    "# Linked List Implementation of a Queue\n",
    "\n",
    "A **linked list queue** is an implementation of the queue abstract data type (ADT) that uses linked nodes rather than a fixed-size array. This approach provides dynamic memory allocation and eliminates the need for circular array logic."
   ]
  },
  {
   "cell_type": "markdown",
   "metadata": {},
   "source": [
    "## Basic Concept\n",
    "\n",
    "In a linked list implementation of a queue:\n",
    "\n",
    "- Each element is stored as a node containing data and a reference to the next node\n",
    "- The queue maintains two pointers: `front` (for dequeue operations) and `rear` (for enqueue operations)\n",
    "- Elements are added at the rear and removed from the front, maintaining FIFO (First-In-First-Out) order\n",
    "- Unlike array implementations, there's no fixed size limit or need for circular logic\n",
    "\n",
    "## Queue ADT Operations\n",
    "\n",
    "### 1. Initialization\n",
    "- Create empty queue with `front = rear = None` (empty queue condition)\n",
    "\n",
    "### 2. Enqueue(element)\n",
    "- Create a new node with the given element\n",
    "- If queue is empty, set both `front` and `rear` to the new node\n",
    "- Otherwise, set the `next` of current `rear` to the new node, and update `rear`\n",
    "\n",
    "### 3. Dequeue()\n",
    "- Check if queue is empty\n",
    "- Store the data from the `front` node\n",
    "- Update `front` to point to the next node\n",
    "- If `front` becomes `None`, set `rear = None` as well (queue is empty)\n",
    "- Return the stored data\n",
    "\n",
    "### 4. isEmpty()\n",
    "- Return `true` if `front == None`\n",
    "\n",
    "### 5. peek()/front()\n",
    "- Return element at `front` node without removing it\n",
    "\n",
    "## Diagrammatic Representation\n",
    "\n",
    "```\n",
    "Initial empty queue:\n",
    "front = None, rear = None\n",
    "\n",
    "After enqueue(A):\n",
    "front --> [A|None] <-- rear\n",
    "\n",
    "After enqueue(B):\n",
    "front --> [A|*] --> [B|None] <-- rear\n",
    "\n",
    "After enqueue(C):\n",
    "front --> [A|*] --> [B|*] --> [C|None] <-- rear\n",
    "\n",
    "After dequeue() (removes A):\n",
    "front --> [B|*] --> [C|None] <-- rear\n",
    "```\n",
    "\n",
    "## Advantages\n",
    "\n",
    "1. Dynamic size - grows as needed without predefined size limit\n",
    "2. No wastage of space - memory is allocated only when needed\n",
    "3. No need for circular logic as in array-based implementations\n",
    "4. Constant time O(1) operations for all basic queue functions"
   ]
  },
  {
   "cell_type": "code",
   "execution_count": 1,
   "metadata": {},
   "outputs": [],
   "source": [
    "class Node:\n",
    "    def __init__(self, data=None):\n",
    "        self.data = data\n",
    "        self.next = None"
   ]
  },
  {
   "cell_type": "code",
   "execution_count": 2,
   "metadata": {},
   "outputs": [],
   "source": [
    "class Queue(object):\n",
    "    def __init__(self):\n",
    "        self.front = None\n",
    "        self.rear = None\n",
    "        self.size = 0\n",
    "    \n",
    "    def is_empty(self):\n",
    "        return self.front is None\n",
    "    \n",
    "    def get_size(self):\n",
    "        return self.size\n",
    "    \n",
    "    def enqueue(self, item):\n",
    "        new_node = Node(item)\n",
    "        \n",
    "        # If queue is empty, both front and rear point to new node\n",
    "        if self.rear is None:\n",
    "            self.front = self.rear = new_node\n",
    "        else:\n",
    "            # Add new node at the end and update rear\n",
    "            self.rear.next = new_node\n",
    "            self.rear = new_node\n",
    "        \n",
    "        self.size += 1\n",
    "        print(\"Queue after enqueue:\", self.display())\n",
    "    \n",
    "    def dequeue(self):\n",
    "        if self.is_empty():\n",
    "            print(\"Queue Underflow!\")\n",
    "            return None\n",
    "        \n",
    "        # Store the front and move front one node ahead\n",
    "        temp = self.front\n",
    "        self.front = temp.next\n",
    "        \n",
    "        # If front becomes None, set rear as None as well\n",
    "        if self.front is None:\n",
    "            self.rear = None\n",
    "        \n",
    "        self.size -= 1\n",
    "        print(\"Queue after dequeue:\", self.display())\n",
    "        return temp.data\n",
    "    \n",
    "    def queue_front(self):\n",
    "        if self.is_empty():\n",
    "            print(\"Sorry, the queue is empty!\")\n",
    "            return None\n",
    "        return self.front.data\n",
    "    \n",
    "    def queue_rear(self):\n",
    "        if self.is_empty():\n",
    "            print(\"Sorry, the queue is empty!\")\n",
    "            return None\n",
    "        return self.rear.data\n",
    "    \n",
    "    def display(self):\n",
    "        \"\"\"Helper method to display the queue contents for visualization\"\"\"\n",
    "        if self.is_empty():\n",
    "            return \"[]\"\n",
    "        \n",
    "        result = []\n",
    "        temp = self.front\n",
    "        while temp:\n",
    "            result.append(temp.data)\n",
    "            temp = temp.next\n",
    "        return result"
   ]
  },
  {
   "cell_type": "code",
   "execution_count": 3,
   "metadata": {},
   "outputs": [
    {
     "name": "stdout",
     "output_type": "stream",
     "text": [
      "Queue after enqueue: ['first']\n",
      "Front: first\n",
      "Rear: first\n"
     ]
    }
   ],
   "source": [
    "# Create a queue and test its operations\n",
    "queue = Queue()\n",
    "queue.enqueue(\"first\")\n",
    "print(\"Front:\", queue.queue_front())\n",
    "print(\"Rear:\", queue.queue_rear())"
   ]
  },
  {
   "cell_type": "code",
   "execution_count": 4,
   "metadata": {},
   "outputs": [
    {
     "name": "stdout",
     "output_type": "stream",
     "text": [
      "Queue after enqueue: ['first', 'second']\n",
      "Queue after enqueue: ['first', 'second', 'third']\n",
      "Front: first\n",
      "Rear: third\n"
     ]
    }
   ],
   "source": [
    "queue.enqueue(\"second\")\n",
    "queue.enqueue(\"third\")\n",
    "print(\"Front:\", queue.queue_front())\n",
    "print(\"Rear:\", queue.queue_rear())"
   ]
  },
  {
   "cell_type": "code",
   "execution_count": 5,
   "metadata": {},
   "outputs": [
    {
     "name": "stdout",
     "output_type": "stream",
     "text": [
      "Queue after dequeue: ['second', 'third']\n",
      "Removed item: first\n",
      "Front: second\n",
      "Rear: third\n"
     ]
    }
   ],
   "source": [
    "# Test dequeue\n",
    "removed = queue.dequeue()\n",
    "print(\"Removed item:\", removed)\n",
    "print(\"Front:\", queue.queue_front())\n",
    "print(\"Rear:\", queue.queue_rear())"
   ]
  },
  {
   "cell_type": "code",
   "execution_count": 6,
   "metadata": {},
   "outputs": [
    {
     "name": "stdout",
     "output_type": "stream",
     "text": [
      "Queue after enqueue: ['second', 'third', 'fourth']\n",
      "Queue after enqueue: ['second', 'third', 'fourth', 'fifth']\n",
      "Queue size: 4\n",
      "Front: second\n",
      "Rear: fifth\n"
     ]
    }
   ],
   "source": [
    "# Test more operations\n",
    "queue.enqueue(\"fourth\")\n",
    "queue.enqueue(\"fifth\")\n",
    "print(\"Queue size:\", queue.get_size())\n",
    "print(\"Front:\", queue.queue_front())\n",
    "print(\"Rear:\", queue.queue_rear())"
   ]
  },
  {
   "cell_type": "code",
   "execution_count": 7,
   "metadata": {},
   "outputs": [
    {
     "name": "stdout",
     "output_type": "stream",
     "text": [
      "Queue after dequeue: ['third', 'fourth', 'fifth']\n",
      "Dequeued: second\n",
      "Queue after dequeue: ['fourth', 'fifth']\n",
      "Dequeued: third\n",
      "Queue after dequeue: ['fifth']\n",
      "Dequeued: fourth\n",
      "Queue after dequeue: []\n",
      "Dequeued: fifth\n",
      "Queue Underflow!\n"
     ]
    }
   ],
   "source": [
    "# Test dequeuing until empty\n",
    "while not queue.is_empty():\n",
    "    print(\"Dequeued:\", queue.dequeue())\n",
    "\n",
    "# Try to dequeue from empty queue\n",
    "queue.dequeue()"
   ]
  },
  {
   "cell_type": "code",
   "execution_count": 8,
   "metadata": {},
   "outputs": [
    {
     "name": "stdout",
     "output_type": "stream",
     "text": [
      "Sorry, the queue is empty!\n",
      "Front: None\n",
      "Sorry, the queue is empty!\n",
      "Rear: None\n"
     ]
    }
   ],
   "source": [
    "# Try to access front and rear of empty queue\n",
    "print(\"Front:\", queue.queue_front())\n",
    "print(\"Rear:\", queue.queue_rear())"
   ]
  }
 ],
 "metadata": {
  "kernelspec": {
   "display_name": "DSA",
   "language": "python",
   "name": "python3"
  },
  "language_info": {
   "codemirror_mode": {
    "name": "ipython",
    "version": 3
   },
   "file_extension": ".py",
   "mimetype": "text/x-python",
   "name": "python",
   "nbconvert_exporter": "python",
   "pygments_lexer": "ipython3",
   "version": "3.9.19"
  }
 },
 "nbformat": 4,
 "nbformat_minor": 2
}
