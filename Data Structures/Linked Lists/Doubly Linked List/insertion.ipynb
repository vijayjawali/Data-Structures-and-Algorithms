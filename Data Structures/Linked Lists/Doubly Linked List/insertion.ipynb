{
 "cells": [
  {
   "cell_type": "markdown",
   "metadata": {
    "vscode": {
     "languageId": "plaintext"
    }
   },
   "source": [
    "# Data Insertion in a Doubly Linked List\n",
    "\n",
    "A doubly linked list is a data structure consisting of nodes where each node contains data, a pointer to the next node, and a pointer to the previous node. There are three primary ways to insert a node into a doubly linked list:\n",
    "\n",
    "## 1. Insertion at the Beginning (Before Head)\n",
    "\n",
    "This is the simplest form of insertion where a new node becomes the new head of the list.\n",
    "\n",
    "### Algorithm Steps:\n",
    "1. Create a new node with the given data\n",
    "2. Set the next pointer of the new node to point to the current head\n",
    "3. If the list is not empty, set the previous pointer of the current head to the new node\n",
    "4. Update the head to point to the new node\n",
    "5. Increment the length of the list\n",
    "\n",
    "### Diagram:\n",
    "```\n",
    "Before Insertion: HEAD → [A] ↔ [B] ↔ [C] → NULL\n",
    "\n",
    "New Node: [X]\n",
    "\n",
    "After Insertion: HEAD → [X] ↔ [A] ↔ [B] ↔ [C] → NULL\n",
    "\n",
    "```\n",
    "\n",
    "\n",
    "## 2. Insertion at a Random Position\n",
    "\n",
    "In this case, we insert a node at a specific position in the list.\n",
    "\n",
    "### Algorithm Steps:\n",
    "1. Create a new node with the given data\n",
    "2. If the position is 0, perform insertion at the beginning\n",
    "3. If the position is greater than or equal to the length, perform insertion at the end\n",
    "4. Otherwise:\n",
    "    - Traverse the list to find the node at position-1\n",
    "    - Set the next pointer of the new node to the next pointer of the current node\n",
    "    - Set the previous pointer of the new node to the current node\n",
    "    - Update the next pointer of the current node to point to the new node\n",
    "    - Update the previous pointer of the next node to point to the new node\n",
    "5. Increment the length of the list\n",
    "\n",
    "### Diagram:\n",
    "```\n",
    "Before Insertion (inserting at position 2): HEAD → [A] ↔ [B] ↔ [C] ↔ [D] → NULL\n",
    "\n",
    "New Node: [X]\n",
    "\n",
    "Traversing to position-1 (position 1): HEAD → [A] ↔ [B] ↔ [C] ↔ [D] → NULL ↑ Current Position\n",
    "\n",
    "After Insertion: HEAD → [A] ↔ [B] ↔ [X] ↔ [C] ↔ [D] → NULL\n",
    "```\n",
    "\n",
    "## 3. Insertion at the End\n",
    "\n",
    "Here we add a new node at the end of the list.\n",
    "\n",
    "### Algorithm Steps:\n",
    "1. Create a new node with the given data\n",
    "2. If the list is empty, set the head to the new node\n",
    "3. Otherwise:\n",
    "    - Traverse to the end of the list\n",
    "    - Set the next pointer of the last node to the new node\n",
    "    - Set the previous pointer of the new node to the last node\n",
    "4. Increment the length of the list\n",
    "\n",
    "### Diagram:\n",
    "```\n",
    "Before Insertion: HEAD → [A] ↔ [B] ↔ [C] → NULL\n",
    "\n",
    "New Node: [X]\n",
    "\n",
    "After Insertion: HEAD → [A] ↔ [B] ↔ [C] ↔ [X] → NULL\n",
    "```\n",
    "\n",
    "Each insertion method has its own time complexity:\n",
    "- Insertion at beginning: O(1) - constant time\n",
    "- Insertion at a random position: O(n) in worst case - linear time\n",
    "- Insertion at the end: O(n) - linear time (unless we maintain a tail pointer)"
   ]
  },
  {
   "cell_type": "markdown",
   "metadata": {},
   "source": [
    "## Creating a Doubly Linked List"
   ]
  },
  {
   "cell_type": "code",
   "execution_count": 27,
   "metadata": {},
   "outputs": [],
   "source": [
    "# Node of a Doubly Linked list\n",
    "class Node:\n",
    "    # Constructor to create a new node\n",
    "    def __init__(self, data=None, next=None, prev=None):\n",
    "        self.data = data\n",
    "        self.next = next\n",
    "        self.prev = prev\n",
    "    # method for setting the data field of the node\n",
    "    def set_data(self, data):\n",
    "        self.data = data\n",
    "    # method for getting the data field of the node\n",
    "    def get_data(self):\n",
    "        return self.data\n",
    "    # method for setting the next field of the node\n",
    "    def set_next(self, next):\n",
    "        self.next = next\n",
    "    # method for getting the next field of the node\n",
    "    def get_next(self):\n",
    "        return self.next\n",
    "    # method for setting the prev field of the node\n",
    "    def set_prev(self, prev):\n",
    "        self.prev = prev\n",
    "    # method for getting the prev field of the node\n",
    "    def get_prev(self):\n",
    "        return self.prev\n",
    "    # returns true if the node points to another node\n",
    "    def has_next(self):\n",
    "        return self.next != None\n",
    "    # returns true if the node points to another node\n",
    "    def has_prev(self):\n",
    "        return self.prev != None\n",
    "    # __str__ returns a string representation of the node\n",
    "    def __str__(self):\n",
    "        return \"Node[Data = %s]\" % (self.data,)\n",
    "# Node of a Doubly Linked list\n",
    "class DoublyLinkedList:\n",
    "    # Constructor to create a new doubly linked list\n",
    "    def __init__(self):\n",
    "        self.head = None\n",
    "        self.tail = None\n",
    "        self.size = 0\n",
    "    # method for getting the size of the list\n",
    "    def get_size(self):\n",
    "        return self.size\n",
    "    # method for setting the size of the list\n",
    "    def set_size(self, size):\n",
    "        self.size = size\n",
    "    # method for checking if the list is empty\n",
    "    def is_empty(self):\n",
    "        return self.size == 0"
   ]
  },
  {
   "cell_type": "markdown",
   "metadata": {},
   "source": [
    "## inserting a node at the beginning"
   ]
  },
  {
   "cell_type": "code",
   "execution_count": 28,
   "metadata": {},
   "outputs": [],
   "source": [
    "# method for inserting a node at the start of the list\n",
    "def insert_at_start(self, data):\n",
    "    if self.head is None:\n",
    "        self.head = Node(data)\n",
    "        self.tail = self.head\n",
    "    else:\n",
    "        new_node = Node(data)\n",
    "        new_node.set_next(self.head)\n",
    "        self.head.set_prev(new_node)\n",
    "        self.head = new_node\n",
    "    self.size += 1\n",
    "DoublyLinkedList.insert_at_start = insert_at_start"
   ]
  },
  {
   "cell_type": "code",
   "execution_count": 29,
   "metadata": {},
   "outputs": [
    {
     "name": "stdout",
     "output_type": "stream",
     "text": [
      "5\n",
      "Node[Data = 25]\n",
      "Node[Data = 20]\n",
      "Node[Data = 15]\n",
      "Node[Data = 10]\n",
      "Node[Data = 5]\n"
     ]
    }
   ],
   "source": [
    "# create a doubly linked list of 5 nodes\n",
    "dll = DoublyLinkedList()\n",
    "dll.insert_at_start(5)\n",
    "dll.insert_at_start(10)\n",
    "dll.insert_at_start(15)\n",
    "dll.insert_at_start(20)\n",
    "dll.insert_at_start(25)\n",
    "# print the size of the list\n",
    "print(dll.get_size())\n",
    "# print the list\n",
    "current = dll.head\n",
    "while current:\n",
    "    print(current)\n",
    "    current = current.get_next()"
   ]
  },
  {
   "cell_type": "markdown",
   "metadata": {},
   "source": [
    "## inserting a node at the end"
   ]
  },
  {
   "cell_type": "code",
   "execution_count": 30,
   "metadata": {},
   "outputs": [],
   "source": [
    "# method for inserting a node at the end of the list\n",
    "def insert_at_end(self, data):\n",
    "    if self.head is None:\n",
    "        self.head = Node(data)\n",
    "        self.tail = self.head\n",
    "    else:\n",
    "        new_node = Node(data)\n",
    "        new_node.set_prev(self.tail)\n",
    "        self.tail.set_next(new_node)\n",
    "        self.tail = new_node\n",
    "    self.size += 1\n",
    "DoublyLinkedList.insert_at_end = insert_at_end"
   ]
  },
  {
   "cell_type": "code",
   "execution_count": 31,
   "metadata": {},
   "outputs": [
    {
     "name": "stdout",
     "output_type": "stream",
     "text": [
      "6\n",
      "Node[Data = 25]\n",
      "Node[Data = 20]\n",
      "Node[Data = 15]\n",
      "Node[Data = 10]\n",
      "Node[Data = 5]\n",
      "Node[Data = 30]\n"
     ]
    }
   ],
   "source": [
    "dll.insert_at_end(30)\n",
    "\n",
    "# print the size of the list\n",
    "print(dll.get_size())\n",
    "# print the list\n",
    "current = dll.head\n",
    "while current:\n",
    "    print(current)\n",
    "    current = current.get_next()"
   ]
  },
  {
   "cell_type": "markdown",
   "metadata": {},
   "source": [
    "## inserting a node at a random position"
   ]
  },
  {
   "cell_type": "code",
   "execution_count": 32,
   "metadata": {},
   "outputs": [],
   "source": [
    "# method to insert a node at a given position\n",
    "def insert_at_position(self, data, position):\n",
    "    if position > self.size or position < 0:\n",
    "        return None\n",
    "    if position == 0:\n",
    "        self.insert_at_start(data)\n",
    "    elif position == self.size:\n",
    "        self.insert_at_end(data)\n",
    "    else:\n",
    "        new_node = Node(data)\n",
    "        current = self.head\n",
    "        for i in range(position - 1):\n",
    "            current = current.get_next()\n",
    "        new_node.set_next(current.get_next())\n",
    "        new_node.set_prev(current)\n",
    "        current.get_next().set_prev(new_node)\n",
    "        current.set_next(new_node)\n",
    "        self.size += 1\n",
    "DoublyLinkedList.insert_at_position = insert_at_position"
   ]
  },
  {
   "cell_type": "code",
   "execution_count": 33,
   "metadata": {},
   "outputs": [
    {
     "name": "stdout",
     "output_type": "stream",
     "text": [
      "7\n",
      "Node[Data = 25]\n",
      "Node[Data = 20]\n",
      "Node[Data = 15]\n",
      "Node[Data = 35]\n",
      "Node[Data = 10]\n",
      "Node[Data = 5]\n",
      "Node[Data = 30]\n"
     ]
    }
   ],
   "source": [
    "dll.insert_at_position(35, 3)\n",
    "# print the size of the list\n",
    "print(dll.get_size())\n",
    "# print the list\n",
    "current = dll.head\n",
    "while current:\n",
    "    print(current)\n",
    "    current = current.get_next()"
   ]
  }
 ],
 "metadata": {
  "kernelspec": {
   "display_name": "DSA",
   "language": "python",
   "name": "python3"
  },
  "language_info": {
   "codemirror_mode": {
    "name": "ipython",
    "version": 3
   },
   "file_extension": ".py",
   "mimetype": "text/x-python",
   "name": "python",
   "nbconvert_exporter": "python",
   "pygments_lexer": "ipython3",
   "version": "3.9.19"
  }
 },
 "nbformat": 4,
 "nbformat_minor": 2
}
