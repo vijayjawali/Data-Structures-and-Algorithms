{
 "cells": [
  {
   "cell_type": "markdown",
   "id": "5c60b30e",
   "metadata": {},
   "source": [
    "# Introduction to Arrays\n",
    "\n",
    "This notebook covers arrays from a Data Structures & Algorithms perspective using Python. It explains the concept, shows diagrammatic representation, compares Python array-like options, and provides runnable examples for common operations and built-in functions."
   ]
  },
  {
   "cell_type": "markdown",
   "id": "db128c50",
   "metadata": {},
   "source": [
    "## What is an Array?\n",
    "\n",
    "- An array is a contiguous collection of elements of the same type (conceptually).\n",
    "- Key properties:\n",
    "  - Fixed-size in low-level languages; dynamic-sized in many high-level languages (e.g., Python lists).\n",
    "  - Constant-time access by index (O(1)).\n",
    "  - Insert/delete at arbitrary positions typically O(n) due to shifting.\n",
    "\n",
    "Time complexity (common operations):\n",
    "\n",
    "- Access by index: O(1)\n",
    "- Search (unsorted): O(n)\n",
    "- Insert / Delete at end (amortized): O(1) for dynamic arrays; Insert/Delete at arbitrary index: O(n)\n"
   ]
  },
  {
   "cell_type": "markdown",
   "id": "037c8c10",
   "metadata": {},
   "source": [
    "## Diagrammatic Representation\n",
    "\n",
    "Indexing example (0-based):\n",
    "\n",
    "`[ 10 | 20 | 30 | 40 | 50 ]`\n",
    "\n",
    "Indexes:  0    1    2    3    4\n",
    "\n",
    "Accessing element at index 2 returns 30.\n",
    "\n",
    "Visual (memory layout conceptually):\n",
    "\n",
    "Address:   A    A+1  A+2  A+3  A+4\n",
    "\n",
    "Value:    10    20   30   40   50"
   ]
  },
  {
   "cell_type": "markdown",
   "id": "5ab42ab1",
   "metadata": {},
   "source": [
    "## Arrays in Python: Options\n",
    "\n",
    "- Python lists: most commonly used for DSA practice. They are dynamic arrays (heterogeneous but used as homogeneous for algorithms).\n",
    "- array.array: memory-efficient arrays limited to a single C typecode (e.g., 'i' for ints).\n",
    "- NumPy arrays: powerful for numerical computing; contiguous and efficient for large numeric arrays."
   ]
  },
  {
   "cell_type": "code",
   "execution_count": null,
   "id": "747c3243",
   "metadata": {},
   "outputs": [],
   "source": [
    "# Creation examples: Python list, array.array, NumPy (if available)\n",
    "from array import array\n",
    "\n",
    "# Python list (dynamic array)\n",
    "lst = [10, 20, 30, 40, 50]\n",
    "print('list:', lst)\n",
    "\n",
    "# array.array (typed array) - less flexible but memory efficient\n",
    "int_arr = array('i', [10, 20, 30, 40, 50])\n",
    "print('array.array:', int_arr)\n",
    "\n",
    "# NumPy array (if numpy is installed) - fast for large numeric workloads\n",
    "try:\n",
    "    import numpy as np\n",
    "    np_arr = np.array([10, 20, 30, 40, 50])\n",
    "    print('numpy array:', np_arr)\n",
    "except Exception as e:\n",
    "    print('numpy not available in this environment:', str(e))"
   ]
  },
  {
   "cell_type": "code",
   "execution_count": null,
   "id": "9eb61d86",
   "metadata": {},
   "outputs": [],
   "source": [
    "# Indexing, slicing, and traversal examples with a Python list\n",
    "arr = [5, 15, 25, 35, 45]\n",
    "\n",
    "# Access by index (O(1))\n",
    "print('arr[2] =', arr[2])\n",
    "\n",
    "# Negative index\n",
    "print('arr[-1] =', arr[-1])\n",
    "\n",
    "# Slicing (creates a new list): arr[start:stop:step]\n",
    "print('arr[1:4] =', arr[1:4])\n",
    "print('arr[::-1] (reverse) =', arr[::-1])\n",
    "\n",
    "# Traversal\n",
    "for i, val in enumerate(arr):\n",
    "    print(f'index={i}, value={val}')"
   ]
  },
  {
   "cell_type": "code",
   "execution_count": null,
   "id": "91772961",
   "metadata": {},
   "outputs": [],
   "source": [
    "# Insertion and deletion examples (Python list)\n",
    "arr = [1, 2, 4, 5]\n",
    "print('original:', arr)\n",
    "\n",
    "# Append at end (amortized O(1))\n",
    "arr.append(6)\n",
    "print('after append(6):', arr)\n",
    "\n",
    "# Insert at index (O(n) due to shifting)\n",
    "arr.insert(2, 3)  # insert value 3 at index 2\n",
    "print('after insert(2,3):', arr)\n",
    "\n",
    "# Delete by index (pop) - O(n) worst-case due to shifting\n",
    "val = arr.pop(3)  # removes element at index 3\n",
    "print('popped value:', val, 'array now:', arr)\n",
    "\n",
    "# Remove by value (first occurrence) - O(n)\n",
    "arr.remove(1)\n",
    "print('after remove(1):', arr)\n",
    "\n",
    "# del for slicing/deleting ranges\n",
    "del arr[1:3]\n",
    "print('after del arr[1:3]:', arr)"
   ]
  },
  {
   "cell_type": "markdown",
   "id": "1a4651d2",
   "metadata": {},
   "source": [
    "## Common built-in functions / methods (with brief explanation)\n",
    "\n",
    "- len(arr): returns number of elements — O(1).\n",
    "- arr.append(x): add x to end — amortized O(1).\n",
    "- arr.insert(i, x): insert x at index i — O(n).\n",
    "- arr.pop([i]): remove and return at index i (end if omitted) — O(1) amortized for end, O(n) for arbitrary index.\n",
    "- arr.remove(x): remove first occurrence of x — O(n).\n",
    "- arr.index(x): return first index of x — O(n).\n",
    "- arr.count(x): count occurrences — O(n).\n",
    "- arr.extend(iterable): extend by another iterable — O(k) where k is size of iterable.\n",
    "- arr.sort(): sort in-place — O(n log n).\n",
    "- arr.reverse(): reverse in-place — O(n).\n",
    "- arr.copy(): shallow copy — O(n).\n",
    "- arr.clear(): remove all elements — O(n) (implementation dependent)."
   ]
  },
  {
   "cell_type": "code",
   "execution_count": null,
   "id": "575342c3",
   "metadata": {},
   "outputs": [],
   "source": [
    "# Examples demonstrating common built-ins\n",
    "arr = [3, 1, 4, 1, 5]\n",
    "print('start:', arr)\n",
    "print('len:', len(arr))\n",
    "print('count(1):', arr.count(1))\n",
    "print('index(4):', arr.index(4))\n",
    "\n",
    "# sort and reverse\n",
    "arr.sort()\n",
    "print('sorted:', arr)\n",
    "arr.reverse()\n",
    "print('reversed:', arr)\n",
    "\n",
    "# extend and copy\n",
    "arr2 = arr.copy()\n",
    "arr2.extend([9, 2])\n",
    "print('arr2 after extend:', arr2)\n",
    "\n",
    "# clear\n",
    "arr2.clear()\n",
    "print('arr2 after clear:', arr2)"
   ]
  },
  {
   "cell_type": "markdown",
   "id": "4c041a0d",
   "metadata": {},
   "source": [
    "## Tips practice with arrays\n",
    "\n",
    "- Use 0-based indexing and be careful with off-by-one errors when looping.\n",
    "- When inserting/deleting many elements at arbitrary positions, consider linked lists or balanced trees depending on operation mix.\n",
    "- For numeric heavy workloads or fixed-type arrays, consider NumPy for performance.\n",
    "- Practice common patterns: two pointers, sliding window, prefix sums, binary search on index/value, partitioning."
   ]
  },
  {
   "cell_type": "markdown",
   "id": "9b924a4f",
   "metadata": {},
   "source": [
    "## Summary\n",
    "\n",
    "- Arrays provide O(1) indexed access and are foundational for many DSA algorithms.\n",
    "- In Python, lists are the most convenient dynamic-array abstraction for algorithm study.\n",
    "- Understand time complexities for operations and choose the right structure for your algorithm."
   ]
  }
 ],
 "metadata": {
  "language_info": {
   "name": "python"
  }
 },
 "nbformat": 4,
 "nbformat_minor": 5
}
