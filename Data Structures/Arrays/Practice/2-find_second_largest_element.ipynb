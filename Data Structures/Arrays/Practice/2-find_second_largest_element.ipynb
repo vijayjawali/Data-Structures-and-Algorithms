{
 "cells": [
  {
   "cell_type": "markdown",
   "metadata": {},
   "source": [
    "### Find Second Largest Element in an Array\n",
    "\n",
    "The find_second_largest function takes an array (or list) as input and returns the second-largest element in the array. If the array has fewer than two elements, it returns a string indicating that the array must have at least two elements.\n",
    "\n",
    "#### Approach\n",
    "\n",
    "<ol>\n",
    "\n",
    "<li>First, the function checks if the input array has fewer than two elements. If so, it returns a string indicating that the array must have at least two elements.\n",
    "<li>Two variables, largest and second_largest, are initialized to negative infinity (float('-inf')). This ensures that any positive number in the array will be considered larger than the initial values of these variables.\n",
    "<li>The function iterates over each element num in the array:\n",
    "    <ul>\n",
    "    <li>If num is greater than the current largest value, it updates second_largest with the previous largest value, and then updates largest with num.\n",
    "    <li>If num is not greater than largest but is greater than second_largest and not equal to largest, it updates second_largest with num.\n",
    "    </ul>\n",
    "<li>After iterating over the entire array, the function checks if second_largest is still float('-inf'). If so, it means no second-largest element was found (e.g., if the array has only one distinct element), and the function returns None.\n",
    "<li>Otherwise, the function returns the value of second_largest."
   ]
  },
  {
   "cell_type": "code",
   "execution_count": 1,
   "metadata": {},
   "outputs": [],
   "source": [
    "def find_second_largest(arr):\n",
    "    if len(arr) < 2:\n",
    "        return \"Array must have at least two elements\"\n",
    "\n",
    "    largest = float('-inf')  # Initialize with negative infinity\n",
    "    second_largest = float('-inf')\n",
    "\n",
    "    for num in arr:\n",
    "        if num > largest:\n",
    "            second_largest = largest  # Update second_largest with previous largest\n",
    "            largest = num  # Update largest with the new value\n",
    "        elif num > second_largest and num != largest:\n",
    "            second_largest = num  # Update second_largest if it's smaller than the new value\n",
    "\n",
    "    if second_largest == float('-inf'):\n",
    "        return None  # No second largest element found\n",
    "\n",
    "    return second_largest"
   ]
  },
  {
   "cell_type": "code",
   "execution_count": 2,
   "metadata": {},
   "outputs": [],
   "source": [
    "def test_find_second_largest():\n",
    "    assert find_second_largest([1, 1, 2, 3, 3, 4, 4, 4, 5, 6, 6]) == 5\n",
    "    assert find_second_largest([1, 1, 1, 1, 1]) == None\n",
    "    assert find_second_largest([1, 1]) == None\n",
    "    assert find_second_largest([1]) == \"Array must have at least two elements\"\n",
    "    assert find_second_largest([]) == \"Array must have at least two elements\"\n",
    "    print(\"All test cases pass\")"
   ]
  },
  {
   "cell_type": "code",
   "execution_count": 3,
   "metadata": {},
   "outputs": [],
   "source": [
    "if __name__ == '__main__':\n",
    "    test_find_second_largest"
   ]
  }
 ],
 "metadata": {
  "kernelspec": {
   "display_name": "DSA",
   "language": "python",
   "name": "python3"
  },
  "language_info": {
   "codemirror_mode": {
    "name": "ipython",
    "version": 3
   },
   "file_extension": ".py",
   "mimetype": "text/x-python",
   "name": "python",
   "nbconvert_exporter": "python",
   "pygments_lexer": "ipython3",
   "version": "3.9.19"
  }
 },
 "nbformat": 4,
 "nbformat_minor": 2
}
