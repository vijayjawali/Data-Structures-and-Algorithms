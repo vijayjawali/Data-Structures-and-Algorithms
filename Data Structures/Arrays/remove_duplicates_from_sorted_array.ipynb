{
 "cells": [
  {
   "cell_type": "markdown",
   "metadata": {},
   "source": [
    "### Remove Duplicates from an Array\n",
    "\n",
    "The remove_duplicates function takes an array (or list) as input and returns a new array with all duplicate elements removed, preserving the order of the original array.\n",
    "\n",
    "#### Approach\n",
    "<ol>\n",
    "<li>First, the function checks if the input array is empty. If so, it returns an empty list.\n",
    "<li>The function initializes a new list result with the first element of the input array arr. This ensures that at least one element is present in the result list.\n",
    "<li>The function then iterates over the remaining elements of the input array, starting from the second element (index 1) up to the last element.\n",
    "<li>For each element arr[i], the function checks if it is different from the last element in the result list (result[-1]). If it is different, it means arr[i] is a new unique element, and it is appended to the result list.\n",
    "<li>After iterating over all elements, the result list contains the unique elements from the input array, preserving the order in which they appeared.\n",
    "<li>Finally, the function returns the result list."
   ]
  },
  {
   "cell_type": "code",
   "execution_count": 5,
   "metadata": {},
   "outputs": [],
   "source": [
    "def remove_duplicates(arr):\n",
    "    if not arr:\n",
    "        return []\n",
    "\n",
    "    result = [arr[0]]  # Start with the first element\n",
    "    for i in range(1, len(arr)):\n",
    "        if arr[i] != result[-1]:  # Compare with the last unique element\n",
    "            result.append(arr[i])\n",
    "\n",
    "    return result"
   ]
  },
  {
   "cell_type": "code",
   "execution_count": 6,
   "metadata": {},
   "outputs": [],
   "source": [
    "def test_remove_duplicates():\n",
    "    assert remove_duplicates([]) == []\n",
    "    assert remove_duplicates([1, 2, 3, 4, 5]) == [1, 2, 3, 4, 5]\n",
    "    assert remove_duplicates([1, 1, 2, 2, 3, 3, 4, 4, 5, 5]) == [1, 2, 3, 4, 5]\n",
    "    print(\"All test cases pass\")"
   ]
  },
  {
   "cell_type": "code",
   "execution_count": 8,
   "metadata": {},
   "outputs": [],
   "source": [
    "if __name__ == '__main__':\n",
    "    test_remove_duplicates"
   ]
  }
 ],
 "metadata": {
  "kernelspec": {
   "display_name": "DSA",
   "language": "python",
   "name": "python3"
  },
  "language_info": {
   "codemirror_mode": {
    "name": "ipython",
    "version": 3
   },
   "file_extension": ".py",
   "mimetype": "text/x-python",
   "name": "python",
   "nbconvert_exporter": "python",
   "pygments_lexer": "ipython3",
   "version": "3.9.19"
  }
 },
 "nbformat": 4,
 "nbformat_minor": 2
}
