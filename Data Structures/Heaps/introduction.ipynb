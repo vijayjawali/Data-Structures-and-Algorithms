{
 "cells": [
  {
   "cell_type": "markdown",
   "id": "66de469a",
   "metadata": {},
   "source": [
    "# Introduction to Heaps\n",
    "\n",
    "A **heap** is a specialized tree-based data structure that satisfies the heap property. Heaps are commonly used to implement priority queues and for efficient sorting algorithms like heapsort."
   ]
  },
  {
   "cell_type": "markdown",
   "id": "f3b547bb",
   "metadata": {},
   "source": [
    "## Definition\n",
    "\n",
    "A heap is a complete binary tree where each node satisfies the heap property:\n",
    "- In a **max-heap**, every parent node is greater than or equal to its children.\n",
    "- In a **min-heap**, every parent node is less than or equal to its children."
   ]
  },
  {
   "cell_type": "markdown",
   "id": "ccecf675",
   "metadata": {},
   "source": [
    "## Diagrammatic Representation\n",
    "\n",
    "Example of a min-heap:\n",
    "```\n",
    "        2\n",
    "      /   \\\n",
    "     3     5\n",
    "    / \\   / \\\n",
    "   7   6 9   8\n",
    "```\n",
    "Example of a max-heap:\n",
    "```\n",
    "        9\n",
    "      /   \\\n",
    "     7     8\n",
    "    / \\   / \\\n",
    "   3   6 2   5\n",
    "```"
   ]
  },
  {
   "cell_type": "markdown",
   "id": "1a7294c4",
   "metadata": {},
   "source": [
    "## Types of Heap\n",
    "\n",
    "- **Min-Heap:** The value of each node is greater than or equal to the value of its parent. The minimum element is at the root.\n",
    "- **Max-Heap:** The value of each node is less than or equal to the value of its parent. The maximum element is at the root."
   ]
  },
  {
   "cell_type": "markdown",
   "id": "adbc126d",
   "metadata": {},
   "source": [
    "## Min-Heap vs Max-Heap\n",
    "\n",
    "- **Min-Heap:** Used when quick access to the smallest element is required (e.g., priority queues).\n",
    "\n",
    "\n",
    "**Min-Heap Example:**\n",
    "```\n",
    "        1\n",
    "      /   \\\n",
    "     3     5\n",
    "    / \\   / \\\n",
    "   7   6 9   8\n",
    "```\n",
    "Root is the smallest element.\n",
    "\n",
    "- **Max-Heap:** Used when quick access to the largest element is required (e.g., heap sort).\n",
    "\n",
    "**Max-Heap Example:**\n",
    "```\n",
    "        9\n",
    "      /   \\\n",
    "     7     8\n",
    "    / \\   / \\\n",
    "   3   6 2   5\n",
    "```\n",
    "\n",
    "Both types maintain the complete binary tree structure and allow efficient insertion and removal operations."
   ]
  }
 ],
 "metadata": {
  "language_info": {
   "name": "python"
  }
 },
 "nbformat": 4,
 "nbformat_minor": 5
}
