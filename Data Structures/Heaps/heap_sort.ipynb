{
 "cells": [
  {
   "cell_type": "markdown",
   "id": "3ecdf2ae",
   "metadata": {},
   "source": [
    "# Heap Sort\n",
    "\n",
    "Heap Sort is a popular and efficient sorting algorithm that is based on the binary heap data structure. It is an in-place sorting algorithm, meaning that it doesn't require additional storage or memory to be allocated for sorting the elements. Heap Sort is not a stable sort."
   ]
  },
  {
   "cell_type": "markdown",
   "id": "53ad23e6",
   "metadata": {},
   "source": [
    "## Algorithmic Steps\n",
    "\n",
    "1. **Build a Max Heap****:** Convert the input array into a max heap, a complete binary tree where each node is greater than or equal to its children.\n",
    "2. **Extract Max:** The root of the max heap is the largest element. Swap it with the last element of the heap and remove the last element (which is the maximum).\n",
    "3. **Heapify:** Restore the heap property by heapifying the root of the tree.\n",
    "4. **Repeat:** Repeat steps 2 and 3 until the heap is empty."
   ]
  },
  {
   "cell_type": "markdown",
   "id": "841349ce",
   "metadata": {},
   "source": [
    "## Diagrammatic Representation\n",
    "\n",
    "Let's consider an example array: `[4, 10, 3, 5, 1]`\n",
    "\n",
    "**Step 1: Build Max Heap**\n",
    "```\n",
    "        10\n",
    "      /    \\\n",
    "     5      3\n",
    "    / \\\n",
    "   4   1\n",
    "```\n",
    "\n",
    "**Step 2: Extract Max and Heapify**\n",
    "Array: `[1, 5, 3, 4, 10]`\n",
    "\n",
    "Heapify the root:\n",
    "Array: `[5, 4, 3, 1, 10]`\n",
    "\n",
    "Continue until sorted: `[1, 3, 4, 5, 10]`"
   ]
  },
  {
   "cell_type": "code",
   "execution_count": 1,
   "id": "ca070ea4",
   "metadata": {},
   "outputs": [],
   "source": [
    "# Heap Sort implementation\n",
    "\n",
    "def heapify(arr, n, i):\n",
    "    largest = i\n",
    "    left = 2 * i + 1\n",
    "    right = 2 * i + 2\n",
    "\n",
    "    if left < n and arr[left] > arr[largest]:\n",
    "        largest = left\n",
    "    if right < n and arr[right] > arr[largest]:\n",
    "        largest = right\n",
    "\n",
    "    if largest != i:\n",
    "        arr[i], arr[largest] = arr[largest], arr[i]\n",
    "        heapify(arr, n, largest)\n",
    "\n",
    "def heap_sort(arr):\n",
    "    n = len(arr)\n",
    "    # Build max-heap\n",
    "    for i in range(n // 2 - 1, -1, -1):\n",
    "        heapify(arr, n, i)\n",
    "    # Extract elements one by one\n",
    "    for i in range(n - 1, 0, -1):\n",
    "        arr[0], arr[i] = arr[i], arr[0]\n",
    "        heapify(arr, i, 0)\n",
    "    return arr"
   ]
  },
  {
   "cell_type": "code",
   "execution_count": 2,
   "id": "21959951",
   "metadata": {},
   "outputs": [
    {
     "name": "stdout",
     "output_type": "stream",
     "text": [
      "All test cases pass\n"
     ]
    }
   ],
   "source": [
    "def test_heap_sort():\n",
    "    assert heap_sort([4, 10, 3, 5, 1]) == [1, 3, 4, 5, 10]\n",
    "    assert heap_sort([1, 2, 3, 4, 5]) == [1, 2, 3, 4, 5]\n",
    "    assert heap_sort([5, 4, 3, 2, 1]) == [1, 2, 3, 4, 5]\n",
    "    assert heap_sort([1, 1, 1, 1]) == [1, 1, 1, 1]\n",
    "    assert heap_sort([]) == []\n",
    "    assert heap_sort([2]) == [2]\n",
    "    print(\"All test cases pass\")\n",
    "\n",
    "test_heap_sort()"
   ]
  }
 ],
 "metadata": {
  "kernelspec": {
   "display_name": "DSA",
   "language": "python",
   "name": "python3"
  },
  "language_info": {
   "codemirror_mode": {
    "name": "ipython",
    "version": 3
   },
   "file_extension": ".py",
   "mimetype": "text/x-python",
   "name": "python",
   "nbconvert_exporter": "python",
   "pygments_lexer": "ipython3",
   "version": "3.9.19"
  }
 },
 "nbformat": 4,
 "nbformat_minor": 5
}
